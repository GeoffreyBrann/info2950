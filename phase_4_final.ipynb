{
 "metadata": {
  "language_info": {
   "codemirror_mode": {
    "name": "ipython",
    "version": 3
   },
   "file_extension": ".py",
   "mimetype": "text/x-python",
   "name": "python",
   "nbconvert_exporter": "python",
   "pygments_lexer": "ipython3",
   "version": 3
  },
  "orig_nbformat": 2
 },
 "nbformat": 4,
 "nbformat_minor": 2,
 "cells": [
  {
   "source": [
    "# Introduction"
   ],
   "cell_type": "markdown",
   "metadata": {}
  },
  {
   "source": [
    "# Data Description"
   ],
   "cell_type": "markdown",
   "metadata": {}
  },
  {
   "source": [
    "# statcast_stats_2015-2019.csv\n",
    "\n",
    "The data are a selected subset from MLB’s STATCAST data set.\n",
    "\n",
    "https://baseballsavant.mlb.com/leaderboard/custom?year=2018,2017,2016,2015&type=batter&filter=&sort=1&sortDir=desc&min=q&selections=xba,xslg,woba,xwoba,xobp,xiso,exit_velocity_avg,launch_angle_avg,sweet_spot_percent,barrels,barrel_batted_rate,solidcontact_percent,flareburner_percent,poorlyunder_percent,poorlytopped_percent,poorlyweak_percent,hard_hit_percent,z_swing_percent,z_swing_miss_percent,oz_swing_percent,oz_swing_miss_percent,oz_contact_percent,out_zone_swing_miss,out_zone_swing,out_zone_percent,out_zone,meatball_swing_percent,meatball_percent,pitch_count_offspeed,pitch_count_fastball,pitch_count_breaking,pitch_count,iz_contact_percent,in_zone_swing_miss,in_zone_swing,in_zone_percent,in_zone,edge_percent,edge,whiff_percent,swing_percent,pull_percent,straightaway_percent,opposite_percent,batted_ball,f_strike_percent,groundballs_percent,groundballs,flyballs_percent,flyballs,linedrives_percent,linedrives,popups_percent,popups,n_bolts,hp_to_1b,sprint_speed,&chart=false&x=xba&y=xba&r=no&chartType=beeswarm\n",
    "\n",
    "## Motivation<br>\n",
    "BaseballSavant is a site dedicated to providing player matchups, Statcast metrics, and advanced statistics in a simple and easy-to-view way. Daren Willman created the website as an employee of MLB. MLB funded the creation of this data set.<br><br>\n",
    "## Composition<br>\n",
    "The only instance of the data is statistics of years of play by professional baseball players in MLB, of which there are 708 instances (of that one type) in this dataset. This dataset is a subset of a larger set. The larger set is all available statistics from BaseballSavant for every MLB player during the timespan 2015-2020. The sample is representative of the larger set, as we set a minimum threshold for Plate Appearances (MLB qualifies players for awards at 502 Plate Appearances), so we only exclude player years that had relatively small sample sizes in terms of Plate Appearences. The data in each instance consists of Statcast statistics, normal batting statistics, name, and year. Important statistics are detailed below in the table. There are no labels or targets associated with each instance. There is missing information in the dataset: in the column hp_to_1b, in the years 2015 and 2016, data is missing. There is one instance of relationships between individual instances, in the column that shows which team the player belongs to. You can determine which players are on the same team from this column. This relationship is not made explicit. There are no recommended data splits. There are no errors, sources of noise, or redundancies in the dataset. The dataset relies on game files from MLB Advanced Media, L.P. There are no guarantees, but it would be highly unlikely for MLB to cease producing public game files. There are no restrictions associated with any of the external resources. The link provided by baseballsavant to external resources is http://mlb.mlb.com/. This link does not lead to any datasets, the link is to the MLB website’s home page. I could not find the individual game files with the raw data used by MLB to create the dataset we are using. The dataset does not contain data that might be considered confidential. The dataset does not contain data that, if viewed directly, might be offensive, insulting, threatening, or might otherwise cause anxiety. The data relates to people, and the data is observations of performance by the professional athletes to whom it relates. The dataset does not specify any subpopulations. It is possible to identify individuals as their names are included in the data set. The dataset does not contain data that might be considered sensitive in any way.<br><br>\n",
    "## Collection Process<br>\n",
    "MLB does not say how they collect visually observable game data, but a possible way it could be done is by the game record of the official scorer, who decides some subjective elements of the game record (such as Errors). Some of the data was directly observable, some of the data was collected using Statcast. Statcast is a state-of-the-art tracking technology, capable of measuring previously unquantifiable aspects of the game. Set up in all 30 Major League ballparks, Statcast collects data using a series of high-resolution optical cameras along with radar equipment. The technology precisely tracks the location and movements of the ball and every player on the field, resulting in an unparalleled amount of information covering everything from the pitcher to the batter to baserunners and defensive players. These mechanisms are validated through a process called “MLB Ground Truth Testing”, a collaboration with WSU’s Sports Science Lab (further reading: https://technology.mlblogs.com/mlb-ground-truth-testing-ec87c73450b9). The dataset that we chose, which is a subset of all Statcast statistics from 2015-2020 was chosen to only include Statcast statistics relating to offensive performance, including batting statistics and player speed statistics. Data collection was performed by paid employees of MLB. Data is collected in real time as games are played, over the span that our data was chosen. This timeframe matches the creation timeframe of the data. There were no ethical review processes conducted. The dataset does relate to people, as stated before. The data was not collected from the individuals in question directly; their performances as athletes were observed both visually and mechanically. I could not find evidence that individuals were notified that their performance data was being collected, but they were aware of that fact. I could not find evidence that the individuals in question consented to the collection and use of their data, but due to the specific nature of these individuals being athletes and this data not being personal information, but rather their athletic performance, consent in this fashion does not apply. There has been no analysis of the potential impact of the dataset and its use on data subjects conducted.<br><br>\n",
    "## Preprocessing/cleaning/labeling<br>\n",
    "There was no preprocessing done to the data in this dataset.<br><br>\n",
    "## Uses<br>\n",
    "This dataset has been used before, mostly in the area of articles written about these statistics or the use of these statistics as tidbits by sports commentators during games. There is no one repository, but sabr.org is a resource with many baseball research papers, some of which use Statcast data. One example of a paper is found at this link: https://lib.ndsu.nodak.edu/ir/handle/10365/28371. This dataset could also be used to determine how to develop and improve a specific player by looking at underlying weaknesses, or how to value a player in the Free Agent market based on projected performance. There is nothing about the composition of this dataset that might impact future uses. I do not believe that there are any tasks for which the dataset should not be used, that are inside the realm of baseball research.<br><br><br>\n",
    "\n",
    "# Important Variables<br>\n",
    "\n",
    "| Variable | Name | Description\t|\n",
    "| :- | :- | :- |\n",
    "|xba|Expected Batting Average (xBA)|xBA measures the likelihood that a batted ball will become a hit|\n",
    "|xslg|Expected Slugging Percentage (xSLG)|xSLG measure the expected number of bases from a batted ball|\n",
    "|woba|Weighted On-base Average (wOBA)|wOBA is a version of on-base percentage that accounts for how a player reached base -- instead of simply considering whether a player reached base|\n",
    "|xwoba|Expected Weighted On-base Average (xwOBA)|xwOBA is wOBA but each way to reach base is affected by a factor considering adjusted run expectancy of a batting event in the context of the season as a whole|\n",
    "|xiso|Expected Isolated Power|xISO measures a hitter’s expected extra bases per at bat|\n",
    "|exit_velocity_avg|Average Exit Velocity (Avg EV (MPH))|How fast, on average, in miles per hour, a ball was hit by a batter|\n",
    "|launch_angle_avg|Average Launch Angle (°)|How high/low, on average, in degrees, a ball was hit by a batter|\n",
    "|sweet_spot_percent|Sweet Spot %|Percentage of batted balls with a launch angle between 8 and 32 degrees|\n",
    "|barrels|Barrels|A batted ball with the perfect combination of exit velocity and launch angle|\n",
    "|barrel_batted_rate|Barrel%|Barrels per plate appearence|\n",
    "|solidcontact_percent|Solid Contact%|Percent of contact classified as solid|\n",
    "|hard_hit_percent|Hard Hit Rate|Percent of contact with an exit velocity of 95+ MPH|\n",
    "|z_swing_percent|Z-Swing%|Swings at pitches inside the zone / pitches inside the zone|\n",
    "|z_swing_miss_percent|Z-SwingMiss%|Swings and misses at pitches inside the zone / pitches inside the zone|\n",
    "|oz_swing_percent|O-Swing%|Swings at pitches outside the zone / pitches outside the zone|\n",
    "|out_zone_swing_miss|O-SwingMiss%|Swings and misses at pitches outside the zone / pitches outside the zone|\n",
    "|out_zone_swing|Out of Zone Swings|Swings at pitches outside the zone|\n",
    "|out_zone_percent|Out Zone%|Percent of pitches outside the zone|\n",
    "|out_zone|Out of Zone|Pitches outside the zone|\n",
    "|meatball_swing_percent|Meatball Swing %|Swings at meatballs / meatballs, Meatball is defined as a fastball over the middle of the plate|\n",
    "|meatball_percent|Meatball %|Meatballs / all pitches|\n",
    "|pitch_count_offspeed|# Offspeed|# of offspeed pitches|\n",
    "|pitch_count_fastball|# Fastball|# of fastballs|\n",
    "|pitch_count_breaking|# Breaking|# of breaking balls|\n",
    "|pitch_count|# Pitches|Total # of pitches|\n",
    "|iz_contact_percent|Z-Contact%|Number of pitches on which contact was made on pitches inside the zone / Swings on pitches inside the zone|\n",
    "|in_zone_swing_miss|In Zone Swing & Miss|Swings and misses at pitches inside the zone|\n",
    "|in_zone_swing|In Zone Swings|Swings at pitches inside the zone|\n",
    "|in_zone_percent|In Zone %|Percent of pitches inside the zone|\n",
    "|in_zone|In Zone|Number of pitches inside the zone|\n",
    "|edge_percent|Edge %|Percent of pitches on the edge of the strike zone|\n",
    "|edge|Edge|Number of pitches on the edge of the strike zone|\n",
    "|whiff_percent|Whiff %|Swings and misses / pitches|\n",
    "|n_bolts|# Bolts|Number of runs where the player’s sprint speed is at least 30 ft/sec|\n",
    "|hp_to_1b|Home to First|Time elapsed from bat on ball contact to the moment when the batter reaches first base (average on competitive runs)|\n",
    "|sprint_speed|Sprint Speed (ft/sec)|Average speed during the fastest 1 second window (ft/sec) of the top 2/3 of competitive runs|"
   ],
   "cell_type": "markdown",
   "metadata": {}
  },
  {
   "source": [
    "# 2015_batter_OPS+.csv, 2016_batter_OPS+.csv, 2017_batter_OPS+.csv, 2018_batter_OPS+.csv, 2019_batter_OPS+.csv\n",
    "\n",
    "Raw source data can be found at these links:\n",
    "https://www.baseball-reference.com/leagues/MLB/2019-standard-batting.shtml, https://www.baseball-reference.com/leagues/MLB/2018-standard-batting.shtml,\n",
    "https://www.baseball-reference.com/leagues/MLB/2017-standard-batting.shtml,\n",
    "https://www.baseball-reference.com/leagues/MLB/2016-standard-batting.shtml,\n",
    "https://www.baseball-reference.com/leagues/MLB/2015-standard-batting.shtml<br>\n",
    "\n",
    "## Motivation<br>\n",
    "SportsReference’s Primary Aim is to answer their users' questions with the easiest-to-use, fastest, and most complete sports statistics anywhere. SportsReference is a for-profit company, founded by Sean Forman, that created this dataset, on behalf of themself. I could not find any information about original funding for SportsReference.<br><br>\n",
    "## Composition<br>\n",
    "The only instance of the data is statistics of years of play by professional baseball players in MLB, of which there are 7514 instances (of that one type) in this dataset. This dataset is a subset of a larger set. The larger set is all available statistics from BaseballReference for every MLB player during the timespan 1871-2020. The sample is not representative of the larger set, but this is intentional, as we wanted to use data from the years 2015-2019 only to match with our data from BaseballSavant. The data in each instance consists of a set of normal batting statistics, name, and year, and positional data. Important statistics are detailed below in the table. There are no labels or targets associated with each instance. There is no missing information in the dataset. There is one instance of relationships between individual instances, in the column that shows which team the player belongs to. You can determine which players are on the same team from this column. This relationship is not made explicit. There are no recommended data splits. There are no errors or sources of noise, or redundancies in the dataset. The dataset relies on game files from MLB Advanced Media, L.P. There are no guarantees, but it would be highly unlikely for MLB to cease producing public game files. There are no restrictions associated with any of the external resources. The dataset does not contain data that might be considered confidential. The dataset does not contain data that, if viewed directly, might be offensive, insulting, threatening, or might otherwise cause anxiety. The data relates to people, and the data is observations of performance by the professional athletes to whom it relates. The dataset does not specify any subpopulations. It is possible to identify individuals as their names are included in the data set. The dataset does not contain data that might be considered sensitive in any way.<br><br>\n",
    "## Collection Process<br>\n",
    "SportsReference does not say how they acquired the statistics that are in the dataset, but these statistics could feasibly have been calculated through the use of Retrosheet, which SportsReference discloses that it uses for game data and transactions. All of the data in the dataset is also directly observable. The dataset that we chose, which is a subset of all SportsReference baseball statistics from 1871-2020 was chosen to only include batting statistics relating from 2015-2019 so we could associate them with the statistics we collected from BaseballSavant. Data collection was performed by paid employees of SportsReference. Data is collected in real time as games are played, over the span that our data was chosen. This timeframe matches the creation timeframe of the data. There were no ethical review processes conducted. The dataset does relate to people, as stated before. The data was not collected from the individuals in question directly; their performances as athletes were observed both visually and mechanically. I could not find evidence that individuals were notified that their performance data was being collected, but they were aware of that fact. I could not find evidence that the individuals in question consented to the collection and use of their data, but due to the specific nature of these individuals being athletes and this data not being personal information, but rather their athletic performance, consent in this fashion does not apply. There has been no analysis of the potential impact of the dataset and its use on data subjects conducted.<br><br>\n",
    "## Preprocessing/cleaning/labeling<br>\n",
    "There was no preprocessing done to the data in this dataset.<br><br>\n",
    "## Uses<br>\n",
    "This dataset has been used before, mostly in articles written about these statistics or the use of these statistics as tidbits by sports commentators during games. There is no one repository, but sabr.org is a resource with many baseball research papers, some of which use batting data from SportsReference. One example of a paper is found at this link: https://sabr.org/journal/article/top-50-players-in-minnesota-twins-history/.\n",
    "This dataset could also be used to determine how good a player is in comparison to other players in the league, as well as other players in history. Another possible use is determining which defensive positions are correlated with the best offensive performance. There is nothing about the composition of this dataset that might impact future uses. I do not believe that there are any tasks for which the dataset should not be used, that are inside the realm of baseball research.<br><br>\n",
    "\n",
    "# Important Variables<br>\n",
    "\n",
    "|Variable|Name|Description|\n",
    "| :- | :- | :- |\n",
    "|Name|Name|Player full name|\n",
    "|PA|# Plate Appearances|A Plate Appearance refers to a player’s turn batting|\n",
    "|OBP|On-base Percentage|How frequently a batter reaches base per plate appearance, including hits, walks, and hit by pitches|\n",
    "|SLG|Slugging Percentage|The total number of bases per at bat (only including hits)|\n",
    "|OPS|On-base Plus Slugging|On-base Percentage plus Slugging Percentage|\n",
    "|OPS+|On-base Plus Slugging Plus|League-adjusted OPS. 100 is league average, 120 is 20% better than league average, etc. (OPS / league OPS, adjusted for park factors) x 100|"
   ],
   "cell_type": "markdown",
   "metadata": {}
  },
  {
   "source": [
    "# UBR_wRC+_data_2015-2019.csv\n",
    "\n",
    "## Motivation<br>\n",
    "FanGraphs does not provide any information regarding their motivation. Frangraphs was founded by Sean Forman. FanGraphs created this data set on behalf of FanGraphs. I could not find any information about funding for FanGraphs.<br><br>\n",
    "## Composition<br>\n",
    "The only instance of the data is statistics of years of play by professional baseball players in MLB, of which there are 707 instances (of that one type) in this dataset. This dataset is a subset of a larger set. The larger set is all available statistics from FanGraphs for every MLB player during the timespan 1871-2020. The sample is not representative of the larger set, but this is intentional, as we wanted to use data from the years 2015-2019 only to match with our data from BaseballSavant. The data in each instance consists of a set of batting statistics, name, and baserunning statistics. Important statistics are detailed below in the table. There are no labels or targets associated with each instance. There is no missing information in the dataset. There is one instance of relationships between individual instances, in the column that shows which team the player belongs to. You can determine which players are on the same team from this column. This relationship is not made explicit. There are no recommended data splits. There are no errors or sources of noise, or redundancies in the dataset. The dataset relies on game files from MLB Advanced Media, L.P. There are no guarantees, but it would be highly unlikely for MLB to cease producing public game files. There are no restrictions associated with any of the external resources. The dataset does not contain data that might be considered confidential. The dataset does not contain data that, if viewed directly, might be offensive, insulting, threatening, or might otherwise cause anxiety. The data relates to people, and the data is observations of performance by the professional athletes to whom it relates. The dataset does not specify any subpopulations. It is possible to identify individuals as their names are included in the data set. The dataset does not contain data that might be considered sensitive in any way.<br><br>\n",
    "\n",
    "## Collection Process<br>\n",
    "FanGraphs does not say how they acquired the statistics that are in the dataset, but the most official source of this data is MLB. All the data in the dataset is also directly observable. The dataset that we chose, which is a subset of all FanGraphs baseball statistics from 1871-2020 was chosen to only include batting statistics relating from 2015-2019 so we could associate them with the statistics we collected from BaseballSavant, while also including statistics exclusive to FanGraphs. Data collection was performed by FanGraphs’ staff. I could not find information on whether or not these staff members were paid to perform the collection. Data is collected in real time as games are played, over the span that our data was chosen. This timeframe matches the creation timeframe of the data. There were no ethical review processes conducted. The dataset does relate to people, as stated before. The data was not collected from the individuals in question directly; their performances as athletes were observed both visually and mechanically. I could not find evidence that individuals were notified that their performance data was being collected, but they were aware of that fact. I could not find evidence that the individuals in question consented to the collection and use of their data, but due to the specific nature of these individuals being athletes and this data not being personal information, but rather their athletic performance, consent in this fashion does not apply. There has been no analysis of the potential impact of the dataset and its use on data subjects conducted.<br><br>\n",
    "## Preprocessing/cleaning/labeling<br>\n",
    "There was no preprocessing done to the data in this dataset.<br>\n",
    "## Uses<br>\n",
    "This dataset has been used before, mostly in articles written about these statistics or the use of these statistics as tidbits by sports commentators during games. There is no one repository, but https://www.baseball-almanac.com/articles/articles.shtml is a resource with many baseball research papers, some of which use offense data from FanGraphs. One example of a paper is found at this link: https://conservancy.umn.edu/handle/11299/199934.\n",
    "This dataset could also be used to determine which players are the best baserunners, and if there is a correlation between offensive performance and baserunning aptitude. There is nothing about the composition of this dataset that might impact future uses. I do not believe that there are any tasks for which the dataset should not be used, that are inside the realm of baseball research.<br>\n",
    "\n",
    "# Important Variables<br>\n",
    "\n",
    "|Variable|Name|Description|\n",
    "| :- | :- | :- |\n",
    "|Name|Name|Player full name|\n",
    "|wRAA|Weighted Runs Above Average|((wOBA - wOBA of the entire league) / annual wOBA scale) x PA: this is a conversion of wOBA into a counting stat, which means you can sum multiple instances of this statistic to find cumulative value|\n",
    "|wRC+|Weighted Runs Created Plus|wRC+ is a rate statistic which attempts to credit a hitter for the value of each outcome (single, double, etc) rather than treating all hits or times on base equally, while also controlling for park effects and the current run environment|\n",
    "|wRC|Weighted Runs Created|wRC is a counting stat for wRC+ that does not take into account park effects or the current run environment|\n",
    "|UBR|Ultimate Base Running|UBR accounts for the value a player adds to their team via base running on non-stolen base plays (e.g. going from 1st base to 3rd base on a single, getting thrown out at home on another player’s base hit)|\n",
    "\n"
   ],
   "cell_type": "markdown",
   "metadata": {}
  },
  {
   "source": [
    "# Preregistration Statement\n",
    "\n",
    "1. More In-Depth Analysis of Launch Angle:\n",
    "In our exploratory data analysis, we noticed that launch angle average did not have a high correlation coefficient with offensive value stats such as OPS+ and wRC+. We think this is because there is an ideal numerical range of average launch angles, and values above and below this range are not as good offensively. We plan to look through the launch angle average data, make a histogram of the data, and then assign different ranges of average launch angles to a new categorical predictor, using the map() function. Then we will perform a linear regression of this new categorical predictor on our offensive value stats, hoping to identify ranges of launch angles which have significant relationships with the offensive value stats.\n",
    "\n",
    "2. More In-Depth Analysis of Sprint Speed/UBR: In our exploratory data analyses we noticed that there was a negative association between batters with higher sprint speeds and their offensive stats. Therefore, want to dig into why this relationship occurs and possibly narrow down some significant statistics that are more strongly associated with sprint speed. In addition to the analyses on sprint speed we will examine UBR, which is a base running statistic. We will perform further anlyses on both UBR and sprint speed in relation to other offensive stats, including but not limited to, OBP, SLG, and ISO. This would be done in order to see which offensive stats have the strongest relationship to UBR.  "
   ],
   "cell_type": "markdown",
   "metadata": {}
  },
  {
   "source": [
    "# Data Analysis"
   ],
   "cell_type": "markdown",
   "metadata": {}
  },
  {
   "source": [
    "# Evaluation of Significance"
   ],
   "cell_type": "markdown",
   "metadata": {}
  },
  {
   "source": [
    "# Interpretation and Conclusions"
   ],
   "cell_type": "markdown",
   "metadata": {}
  },
  {
   "source": [
    "# Limitations"
   ],
   "cell_type": "markdown",
   "metadata": {}
  },
  {
   "source": [
    "# Source Code\n",
    "\n",
    "## https://github.com/GeoffreyBrann/info2950\n",
    "\n"
   ],
   "cell_type": "markdown",
   "metadata": {}
  },
  {
   "source": [
    "# Acknowledgements"
   ],
   "cell_type": "markdown",
   "metadata": {}
  },
  {
   "source": [
    "# Appendix\n",
    "### Data Cleaning Description\n",
    "\n",
    "### Goal: Move all 3 csvs into DataFrames, clean them so they all contain the same player-years and are sorted with the same player-years in the same indices, and append 3 columns from the non-Statcast DataFrames onto the Statcast DataFrame to create one DataFrame with all of our statistics of interest.<br>\n",
    "\n",
    "### Step by step (2015_batter_OPS+.csv, 2016_batter_OPS+.csv, 2017_batter_OPS+.csv, 2018_batter_OPS+.csv, 2019_batter_OPS+.csv)<br>\n",
    "1. Import data into a DataFrame<br>\n",
    "2. Change the “OPS+” column name to “OPS_Plus”<br>\n",
    "3. Eliminate most duplicates by only retaining players with over 502 Plate Appearances (qualified batters)<br>\n",
    "4. Reset the index<br>\n",
    "5. Get rid of all the columns in the dataset except for “Name” and “OPS_Plus”<br>\n",
    "6. Got rid of the row containing league average statistics and any remaining redundant players (who might have been qualified at a single team and then have been traded, elaborated in Manual Cleaning part 3)<br>\n",
    "7. Reset the index again, and dropped the ‘index’ column<br>\n",
    "8. Name column (which contains both first and last name in one column) was changed to only contain the last name of the player, using a function that parsed the name column for a space and deleted everything preceding that space.<br>\n",
    "a. Only 2019_batter_OPS+.csv was not already sorted alphabetically and necessitated this step<br>\n",
    "9. Sorted by last name alphabetically<br><br>\n",
    "\n",
    "### Step by step (UBR_wRC+_data_2015-2019.csv, for UBR data)<br>\n",
    "1. Import data into a DataFrame<br>\n",
    "2. Dropped all the columns except for “Name” and “UBR”<br>\n",
    "3. Name column (which contains both first and last name in one column) was changed to only contain the last name of the player, using a function that parsed the name column for a space and deleted everything preceding that space.<br>\n",
    "4. Sort to be alphabetical by last name<br>\n",
    "5. Reset index, dropped index column<br><br>\n",
    "### Step by step (UBR_wRC+_data_2015-2019.csv, for wRC+ data)<br>\n",
    "1. Import data into a DataFrame<br>\n",
    "2. Dropped all the columns except for “Nam”e and “wRC+”<br>\n",
    "3. Changed name of “wRC+” column to “wRC_Plus”<br>\n",
    "4. Name column (which contains both first and last name in one column) was changed to only contain the last name of the player, using a function that parsed the name column for a space and deleted everything preceding that space.<br>\n",
    "5. Sort to be alphabetical by last name<br>\n",
    "6. Reset index, dropped index column<br><br>\n",
    "### Step by step (Statcast_stats_2015-2019.csv)<br>\n",
    "1. Import into DataFrame<br>\n",
    "2. Drop ‘Unnamed: 59’ column<br>\n",
    "3. Rename ‘ first_name’ to ‘first_name’ (removed a leading space)<br>\n",
    "4. Sorted by ‘last_name’<br>\n",
    "5. Reset the index<br>\n",
    "6. Dropped the index column<br>\n",
    "7. Append DataFrames containing OPS_Plus data onto the Statcast DataFrame<br>\n",
    "8. Changed “Name” column originally from the DataFrame containing OPS_Plus data to be ‘OPS_Plus_Name’<br>\n",
    "9. Append DataFrames containing wRC_Plus data onto the Statcast DataFrame<br>\n",
    "10. Changed “Name” column originally from the DataFrame containing wRC_Plus and UBR data to be ‘wRC_Plus_Name’<br>\n",
    "11. Append DataFrames containing UBR data onto the Statcast DataFrame<br>\n",
    "12. Changed “Name” column originally from the DataFrame containing wRC_Plus and UBR data to be ‘UBR_Name’<br><br>\n",
    "\n",
    "### Manual Cleaning\n",
    "For 2015_batter_OPS+.csv, 2016_batter_OPS+.csv, 2017_batter_OPS+.csv, 2018_batter_OPS+.csv, 2019_batter_OPS+.csv, UBR_wRC+_data_2015-2019.csv<br>\n",
    "\n",
    "1.\tIn the case when you have two of the same last name: (this is a problem when we dropped first names)\n",
    "a.\tSometimes when you drop the first names from the “Name” column (detailed above), and then sort the DataFrame alphabetically, the DataFrame will become alphabetized in a different way (Player A and B with the same last name might have indices 35 and 36 in one DataFrame, and indices 36 and 35 in a different DataFrame). than the Statcast DataFrame. We had to go through every duplicate last name individually and determine if they were in the correct corresponding order, and if they were not, switch the order of the rows so that when we appended columns onto the final DataFrame, all of the statistics were correctly ordered.\n",
    "\n",
    "For UBR_wRC+_data_2015-2019.csv<br>\n",
    "\n",
    "2. Dee Strange-Gordon in 2015, 2017, and 2018. The UBR and wRC+ data had his name formatted as “Dee Strange- Gordon” (with a space between the hyphen and Gordon), so when all of the first names were cut off, ‘Dee Strange-‘ was cut off as well, leaving only Gordon. To fix this, we reindexed the Statcast and OPS+ so that Dee Stange-Gordon was below Alex Gordon, where it appeared in the wRC+ and UBR data. This meant the final DataFrame was not in alphabetical order anymore, due to Dee (S)trange-Gordon appearing directly below Alex (G)ordon\n",
    "\n",
    "For 2015_batter_OPS+.csv, 2016_batter_OPS+.csv, 2017_batter_OPS+.csv, 2018_batter_OPS+.csv, 2019_batter_OPS+.csv<br>\n",
    "\n",
    "3. In the case where a player accumulated 502 PA with a single team and then was traded, in the OPS+ data you would get a duplicate player row, one denoted by TOT (total season) and one row cotaining their stats for that one specific team. We dropped the player-year with the specific team and keep the player-year with TOT.\n",
    "\n",
    "\n",
    "\n",
    "## Other appendices"
   ],
   "cell_type": "markdown",
   "metadata": {}
  },
  {
   "source": [
    "# Questions for Reviewers"
   ],
   "cell_type": "markdown",
   "metadata": {}
  },
  {
   "cell_type": "code",
   "execution_count": null,
   "metadata": {},
   "outputs": [],
   "source": []
  }
 ]
}