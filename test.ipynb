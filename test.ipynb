{
 "metadata": {
  "language_info": {
   "codemirror_mode": {
    "name": "ipython",
    "version": 3
   },
   "file_extension": ".py",
   "mimetype": "text/x-python",
   "name": "python",
   "nbconvert_exporter": "python",
   "pygments_lexer": "ipython3",
   "version": "3.7.9-final"
  },
  "orig_nbformat": 2,
  "kernelspec": {
   "name": "Python 3.7.9 32-bit ('info2950': conda)",
   "display_name": "Python 3.7.9 32-bit ('info2950': conda)",
   "metadata": {
    "interpreter": {
     "hash": "b2810925a0d407762cbbb5db88ca0e8752e9230cc9a93db36051c4b6bcfd6a44"
    }
   }
  }
 },
 "nbformat": 4,
 "nbformat_minor": 2,
 "cells": [
  {
   "source": [
    "Preregristration of analyses:  \n",
    "1. Launch angle  \n",
    "    different classifications (line drive %)  \n",
    "    looking at launch angle vs offensive stats as a whole, breaking up launch angles into categories aside from the predefined ones to determine a ranking? of categories of launch angles  \n",
    "2. Baserunning/sprint speed  \n",
    "    simple regression with overlying offensive stats (wOBA, OPS+, wRC+ etc), but also with OBP and SLG/ISO/xISO to see if speed is separate from power  "
   ],
   "cell_type": "markdown",
   "metadata": {}
  },
  {
   "source": [
    "1. More In-Depth Analysis of Launch Angle:\n",
    "In our exploratory data analysis, we noticed that launch angle average did not have a high correlation coefficient with offensive value stats such as OPS+ and wRC+. We think this is because there is an ideal numerical range of average launch angles, and values above and below this range are not as good offensively. We plan to look through the launch angle average data, make a histogram of the data, and then assign different ranges of average launch angles to a new categorical predictor, using the map() function. Then we will perform a linear regression of this new categorical predictor on our offensive value stats, hoping to identify ranges of launch angles which have significant relationships with the offensive value stats."
   ],
   "cell_type": "markdown",
   "metadata": {}
  },
  {
   "cell_type": "code",
   "execution_count": null,
   "metadata": {},
   "outputs": [],
   "source": []
  }
 ]
}