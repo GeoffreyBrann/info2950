{
 "metadata": {
  "language_info": {
   "codemirror_mode": {
    "name": "ipython",
    "version": 3
   },
   "file_extension": ".py",
   "mimetype": "text/x-python",
   "name": "python",
   "nbconvert_exporter": "python",
   "pygments_lexer": "ipython3",
   "version": "3.8.5-final"
  },
  "orig_nbformat": 2,
  "kernelspec": {
   "name": "Python 3.8.5 64-bit ('info2950': conda)",
   "display_name": "Python 3.8.5 64-bit ('info2950': conda)",
   "metadata": {
    "interpreter": {
     "hash": "deb4dabc2c1b94f348017a6a88e99617e109435e4e40492c4879977aad09cee3"
    }
   }
  }
 },
 "nbformat": 4,
 "nbformat_minor": 2,
 "cells": [
  {
   "source": [],
   "cell_type": "markdown",
   "metadata": {}
  },
  {
   "source": [
    "Preregristration of analyses:  \n",
    "1. Launch angle  \n",
    "    different classifications (line drive %)  \n",
    "    looking at launch angle vs offensive stats as a whole, breaking up launch angles into categories aside from the predefined ones to determine a ranking? of categories of launch angles  \n",
    "2. Baserunning/sprint speed  \n",
    "    simple regression with overlying offensive stats (wOBA, OPS+, wRC+ etc), but also with OBP and SLG/ISO/xISO to see if speed is separate from power  "
   ],
   "cell_type": "markdown",
   "metadata": {}
  },
  {
   "cell_type": "code",
   "execution_count": null,
   "metadata": {},
   "outputs": [],
   "source": []
  }
 ]
}