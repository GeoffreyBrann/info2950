{
 "metadata": {
  "language_info": {
   "codemirror_mode": {
    "name": "ipython",
    "version": 3
   },
   "file_extension": ".py",
   "mimetype": "text/x-python",
   "name": "python",
   "nbconvert_exporter": "python",
   "pygments_lexer": "ipython3",
   "version": "3.6.5-final"
  },
  "orig_nbformat": 2,
  "kernelspec": {
   "name": "python3",
   "display_name": "Python 3"
  }
 },
 "nbformat": 4,
 "nbformat_minor": 2,
 "cells": [
  {
   "source": [
    "wRC+ Final Model: wRC_Plus ~ exit_velocity_avg + launch_angle_avg + barrels + poorlytopped_percent + hard_hit_percent + oz_swing_percent + out_zone + edge + groundballs_percent + flyballs_percent"
   ],
   "cell_type": "markdown",
   "metadata": {}
  },
  {
   "source": [
    "wOBA Final Model: xwOBA ~ exit_velocity_avg + launch_angle_avg + barrels + solidcontact_percent + poorlytopped_percent + hard_hit_percent + out_zone + oz_swing_percent + edge + groundballs_percent + flyballs_percent"
   ],
   "cell_type": "markdown",
   "metadata": {}
  }
 ]
}