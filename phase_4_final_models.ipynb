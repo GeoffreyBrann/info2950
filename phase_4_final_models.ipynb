{
 "metadata": {
  "language_info": {
   "codemirror_mode": {
    "name": "ipython",
    "version": 3
   },
   "file_extension": ".py",
   "mimetype": "text/x-python",
   "name": "python",
   "nbconvert_exporter": "python",
   "pygments_lexer": "ipython3",
   "version": 3
  },
  "orig_nbformat": 2
 },
 "nbformat": 4,
 "nbformat_minor": 2,
 "cells": [
  {
   "cell_type": "code",
   "execution_count": null,
   "metadata": {},
   "outputs": [],
   "source": []
  },
  {
   "source": [
    "Final model for wRC+ (R syntax)\n",
    "\n",
    "lm(wRC_Plus ~ barrels + flareburner_percent + poorlyunder_percent + \n",
    "                     oz_swing_percent + out_zone_swing_miss + out_zone_percent + \n",
    "                     whiff_percent + groundballs_percent + sprint_speed + \n",
    "                     flareburner_percent*oz_swing_percent + oz_swing_percent*out_zone_swing_miss,\n",
    "                   data = data_all)"
   ],
   "cell_type": "markdown",
   "metadata": {}
  },
  {
   "source": [],
   "cell_type": "markdown",
   "metadata": {}
  }
 ]
}