{
 "metadata": {
  "language_info": {
   "codemirror_mode": {
    "name": "ipython",
    "version": 3
   },
   "file_extension": ".py",
   "mimetype": "text/x-python",
   "name": "python",
   "nbconvert_exporter": "python",
   "pygments_lexer": "ipython3",
   "version": 3
  },
  "orig_nbformat": 2
 },
 "nbformat": 4,
 "nbformat_minor": 2,
 "cells": [
  {
   "source": [
    "### Final OPS Model\n",
    "\n",
    "##########################\n",
    "\n",
    "lm(OPS_Plus ~ barrels + flareburner_percent + poorlyunder_percent + out_zone_swing_miss + out_zone + iz_contact_percent + edge + groundballs_percent + sprint_speed, data = data_all)\n",
    "\n",
    "##########################\n",
    "\n",
    "### Final Sprint Speed Model\n",
    "\n",
    "##########################\n",
    "\n",
    "lm(sprint_speed ~ UBR + n_bolts + groundballs + f_strike_percent + edge + out_zone_swing  + oz_contact_percent + UBR:n_bolts + UBR:f_strike_percent + UBR:edge + n_bolts:groundballs + n_bolts:f_strike_percent, data = data_all)\n",
    "\n",
    "##########################\n",
    "\n",
    "###Final UBR Model\n",
    "\n",
    "###########################\n",
    "\n",
    "lm(UBR ~ sprint_speed  + n_bolts + popups + popups_percent + flyballs + out_zone + z_swing_percent + sweet_spot_percent + launch_angle_avg + n_bolts:popups + n_bolts:popups_percent + popups:flyballs + popups_percent:flyballs + out_zone:z_swing_percent, data = data_all)\n",
    "\n",
    "###########################"
   ],
   "cell_type": "markdown",
   "metadata": {}
  },
  {
   "source": [
    "Final model for wRC+ (R syntax)\n",
    "\n",
    "lm(wRC_Plus ~ barrels + flareburner_percent + poorlyunder_percent + \n",
    "                     oz_swing_percent + out_zone_swing_miss + out_zone_percent + \n",
    "                     whiff_percent + groundballs_percent + sprint_speed + \n",
    "                     flareburner_percent*oz_swing_percent + oz_swing_percent*out_zone_swing_miss,\n",
    "                   data = data_all)"
   ],
   "cell_type": "markdown",
   "metadata": {}
  },
  {
   "source": [],
   "cell_type": "markdown",
   "metadata": {}
  }
 ]
}