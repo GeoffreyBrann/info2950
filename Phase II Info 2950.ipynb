{
 "cells": [
  {
   "cell_type": "markdown",
   "metadata": {},
   "source": [
    "Submit an executed Jupyter notebook (.ipynb) file on CMS with the following sections:\n",
    "Research question(s). State your research question (s) clearly.\n",
    "\n",
    "Data cleaning. Have an initial draft of your data cleaning appendix. Document every step that takes your raw data file(s) and turns it into the analysis-ready data set that you would submit with your final project. All of your data cleaning code should be found in this section, and you may want to explain the steps of your data cleaning in words as well. \n",
    "\n",
    "Data description. Have an initial draft of your data description section. Your data description should be about your analysis-ready data. \n",
    "\n",
    "Data limitations. Identify any potential problems with your dataset. \n",
    "\n",
    "Exploratory data analysis. Perform an (initial) exploratory data analysis. \n",
    "\n",
    "Questions for reviewers. List specific questions for your peer reviewers and project mentor to answer in giving you feedback on this phase.\n"
   ]
  },
  {
   "cell_type": "markdown",
   "metadata": {},
   "source": [
    "Research Question: What combination of statcast statistics best predicts a player's performance in a single season?\n",
    "What combination of statcast statistics best predicts a player's offensive performance in terms of OPS+, wrC+, wOBA?\n",
    "What combination of statcast statistics best predicts a player's UBR?\n",
    "What combination of statcast statistics best predicts a pitcher's performance? (in terms of the same offensive stats in reverse, or other stats)"
   ]
  },
  {
   "source": [
    "Geoff, Jonas, Brendan"
   ],
   "cell_type": "markdown",
   "metadata": {}
  },
  {
   "source": [
    "import pandas as pd\n",
    "#OPS+ Data\n",
    "ops_data_2019 = pd.read_csv(\"2019_batter_OPS+.csv\")\n",
    "ops_data_2019.rename(columns = {'OPS+': 'OPS_Plus'}, inplace = True)\n",
    "ops_data_2019 = ops_data_2019[ops_data_2019.PA > 502]\n",
    "ops_data_2019 = ops_data_2019.sort_values('Name')\n",
    "\n",
    "ops_data_2019 = ops_data_2019.reset_index()\n",
    "ops_data_2019 = ops_data_2019.dropna()\n",
    "ops_data_2019 = ops_data_2019.drop([75], axis = 0)\n",
    "ops_data_2019 = ops_data_2019.reset_index()\n",
    "ops_data_2019 = ops_data_2019.drop(['index','level_0'], axis=1)\n",
    "#print(ops_data_2019.columns)\n",
    "ops_data_2019 = ops_data_2019[['Name', 'OPS_Plus']]\n",
    "for i in range(len(ops_data_2019['Name'])):\n",
    "    name_var = ops_data_2019['Name']\n",
    "    spce = name_var[i].find(' ')\n",
    "    name_var[i] = name_var[i][spce:]\n",
    "\n",
    "ops_data_2019 = ops_data_2019.sort_values('Name')\n",
    "ops_data_2019 = ops_data_2019.reset_index()\n",
    "ops_data_2019 = ops_data_2019.drop(['index'], axis=1)\n",
    "print(ops_data_2019[100:])\n",
    "\n",
    "ops_data_2018 = pd.read_csv(\"2018_batter_OPS+.csv\")\n",
    "ops_data_2018.rename(columns = {'OPS+': 'OPS_Plus'}, inplace = True)\n",
    "ops_data_2018 = ops_data_2018[['OPS_Plus']]\n",
    "\n",
    "\n",
    "ops_data_2017 = pd.read_csv(\"2017_batter_OPS+.csv\")\n",
    "ops_data_2017.rename(columns = {'OPS+': 'OPS_Plus'}, inplace = True)\n",
    "ops_data_2017 = ops_data_2017[['OPS_Plus']]\n",
    "\n",
    "\n",
    "ops_data_2016 = pd.read_csv(\"2016_batter_OPS+.csv\")\n",
    "ops_data_2016.rename(columns = {'OPS+': 'OPS_Plus'}, inplace = True)\n",
    "ops_data_2016 = ops_data_2019[['OPS_Plus']]\n",
    "\n",
    "\n",
    "ops_data_2015 = pd.read_csv(\"2015_batter_OPS+.csv\")\n",
    "ops_data_2015.rename(columns = {'OPS+': 'OPS_Plus'}, inplace = True)\n",
    "ops_data_2015 = ops_data_2015[['OPS_Plus']]\n",
    "\n"
   ],
   "cell_type": "code",
   "metadata": {
    "tags": []
   },
   "execution_count": 115,
   "outputs": [
    {
     "output_type": "stream",
     "name": "stdout",
     "text": "                      Name  OPS_Plus\n100       Rendon\\rendoan01     156.0\n101        Reyes\\reyesfr01     112.0\n102    Reynolds#\\reynobr01     130.0\n103       Rizzo*\\rizzoan01     139.0\n104       Robles\\roblevi01      90.0\n105        Rojas\\rojasmi02      89.0\n106     Rosario*\\rosared01     107.0\n107      Rosario\\rosaram01     101.0\n108     Sanchez#\\sanchca01      73.0\n109     Santana#\\santaca01     136.0\n110     Santana#\\santada01     112.0\n111      Santana\\santado01     107.0\n112   Schwarber*\\schwaky01     122.0\n113      Seager*\\seageco01     113.0\n114       Segura\\segurje01      91.0\n115       Semien\\semiema01     139.0\n116       Smith*\\smithma05      73.0\n117        Soler\\solerjo01     138.0\n118         Soto*\\sotoju01     141.0\n119     Springer\\springe01     150.0\n120        Story\\storytr01     119.0\n121       Suarez\\suareeu01     132.0\n122      Swanson\\swansda01      89.0\n123       Torres\\torregl01     127.0\n124        Trout\\troutmi01     182.0\n125       Turner\\turneju01     131.0\n126       Turner\\turnetr01     116.0\n127      Vazquez\\vazquch01     103.0\n128      Villar#\\villajo01     109.0\n129   Vogelbach*\\vogelda01     111.0\n130          Voit\\voitlu01     123.0\n131       Votto*\\vottojo01      96.0\n132       Walker\\walkech02     111.0\n133         Wong*\\wongko01     108.0\n134      Yelich*\\yelicch01     179.0\n"
    }
   ]
  },
  {
   "cell_type": "code",
   "execution_count": 120,
   "metadata": {
    "tags": []
   },
   "outputs": [
    {
     "output_type": "execute_result",
     "data": {
      "text/plain": "     last_name  first_name  year  ...  sprint_speed              OPS_Name  OPS_Plus\n0        Abreu        Jose  2019  ...          26.6       Abreu\\abreujo02     118.0\n1    Acuna Jr.      Ronald  2019  ...          29.4   Acuna Jr.\\acunaro01     121.0\n2       Adames       Willy  2019  ...          28.3      Adames\\adamewi01      96.0\n3        Ahmed        Nick  2019  ...          28.2       Ahmed\\ahmedni01      92.0\n4      Alberto      Hanser  2019  ...          26.8     Alberto\\alberha01      98.0\n..         ...         ...   ...  ...           ...                   ...       ...\n130       Voit        Luke  2019  ...          25.8         Voit\\voitlu01     123.0\n131      Votto        Joey  2019  ...          25.0      Votto*\\vottojo01      96.0\n132     Walker   Christian  2019  ...          27.2      Walker\\walkech02     111.0\n133       Wong      Kolten  2019  ...          27.6        Wong*\\wongko01     108.0\n134     Yelich   Christian  2019  ...          28.7     Yelich*\\yelicch01     179.0\n\n[135 rows x 61 columns]",
      "text/html": "<div>\n<style scoped>\n    .dataframe tbody tr th:only-of-type {\n        vertical-align: middle;\n    }\n\n    .dataframe tbody tr th {\n        vertical-align: top;\n    }\n\n    .dataframe thead th {\n        text-align: right;\n    }\n</style>\n<table border=\"1\" class=\"dataframe\">\n  <thead>\n    <tr style=\"text-align: right;\">\n      <th></th>\n      <th>last_name</th>\n      <th>first_name</th>\n      <th>year</th>\n      <th>xba</th>\n      <th>xslg</th>\n      <th>xwoba</th>\n      <th>xobp</th>\n      <th>xiso</th>\n      <th>exit_velocity_avg</th>\n      <th>launch_angle_avg</th>\n      <th>sweet_spot_percent</th>\n      <th>barrels</th>\n      <th>barrel_batted_rate</th>\n      <th>solidcontact_percent</th>\n      <th>flareburner_percent</th>\n      <th>poorlyunder_percent</th>\n      <th>poorlytopped_percent</th>\n      <th>poorlyweak_percent</th>\n      <th>hard_hit_percent</th>\n      <th>z_swing_percent</th>\n      <th>z_swing_miss_percent</th>\n      <th>oz_swing_percent</th>\n      <th>oz_swing_miss_percent</th>\n      <th>oz_contact_percent</th>\n      <th>out_zone_swing_miss</th>\n      <th>out_zone_swing</th>\n      <th>out_zone_percent</th>\n      <th>out_zone</th>\n      <th>meatball_swing_percent</th>\n      <th>meatball_percent</th>\n      <th>pitch_count_offspeed</th>\n      <th>pitch_count_fastball</th>\n      <th>pitch_count_breaking</th>\n      <th>pitch_count</th>\n      <th>iz_contact_percent</th>\n      <th>in_zone_swing_miss</th>\n      <th>in_zone_swing</th>\n      <th>in_zone_percent</th>\n      <th>in_zone</th>\n      <th>edge_percent</th>\n      <th>edge</th>\n      <th>whiff_percent</th>\n      <th>swing_percent</th>\n      <th>pull_percent</th>\n      <th>straightaway_percent</th>\n      <th>opposite_percent</th>\n      <th>batted_ball</th>\n      <th>f_strike_percent</th>\n      <th>groundballs_percent</th>\n      <th>groundballs</th>\n      <th>flyballs_percent</th>\n      <th>flyballs</th>\n      <th>linedrives_percent</th>\n      <th>linedrives</th>\n      <th>popups_percent</th>\n      <th>popups</th>\n      <th>n_bolts</th>\n      <th>hp_to_1b</th>\n      <th>sprint_speed</th>\n      <th>OPS_Name</th>\n      <th>OPS_Plus</th>\n    </tr>\n  </thead>\n  <tbody>\n    <tr>\n      <th>0</th>\n      <td>Abreu</td>\n      <td>Jose</td>\n      <td>2019</td>\n      <td>0.282</td>\n      <td>0.522</td>\n      <td>0.363</td>\n      <td>0.335</td>\n      <td>0.240</td>\n      <td>92.1</td>\n      <td>10.9</td>\n      <td>35.2</td>\n      <td>63</td>\n      <td>12.8</td>\n      <td>6.1</td>\n      <td>25.2</td>\n      <td>18.9</td>\n      <td>35.4</td>\n      <td>1.6</td>\n      <td>48.2</td>\n      <td>66.5</td>\n      <td>14.7</td>\n      <td>34.7</td>\n      <td>43.1</td>\n      <td>56.9</td>\n      <td>219</td>\n      <td>508</td>\n      <td>53.5</td>\n      <td>1462</td>\n      <td>70.5</td>\n      <td>6.9</td>\n      <td>244</td>\n      <td>1598</td>\n      <td>885</td>\n      <td>2735</td>\n      <td>85.3</td>\n      <td>124</td>\n      <td>846</td>\n      <td>46.5</td>\n      <td>1273</td>\n      <td>41.0</td>\n      <td>1120</td>\n      <td>25.3</td>\n      <td>49.5</td>\n      <td>39.4</td>\n      <td>34.8</td>\n      <td>25.8</td>\n      <td>492</td>\n      <td>57.7</td>\n      <td>46.1</td>\n      <td>227</td>\n      <td>21.1</td>\n      <td>104</td>\n      <td>26.8</td>\n      <td>132</td>\n      <td>5.9</td>\n      <td>29</td>\n      <td>0</td>\n      <td>4.47</td>\n      <td>26.6</td>\n      <td>Abreu\\abreujo02</td>\n      <td>118.0</td>\n    </tr>\n    <tr>\n      <th>1</th>\n      <td>Acuna Jr.</td>\n      <td>Ronald</td>\n      <td>2019</td>\n      <td>0.282</td>\n      <td>0.578</td>\n      <td>0.393</td>\n      <td>0.368</td>\n      <td>0.296</td>\n      <td>90.6</td>\n      <td>14.2</td>\n      <td>40.5</td>\n      <td>66</td>\n      <td>15.0</td>\n      <td>9.1</td>\n      <td>21.2</td>\n      <td>22.6</td>\n      <td>26.9</td>\n      <td>5.2</td>\n      <td>47.4</td>\n      <td>68.6</td>\n      <td>22.9</td>\n      <td>24.0</td>\n      <td>40.5</td>\n      <td>59.5</td>\n      <td>153</td>\n      <td>378</td>\n      <td>51.8</td>\n      <td>1577</td>\n      <td>87.3</td>\n      <td>7.3</td>\n      <td>291</td>\n      <td>1907</td>\n      <td>848</td>\n      <td>3048</td>\n      <td>76.9</td>\n      <td>231</td>\n      <td>1008</td>\n      <td>48.2</td>\n      <td>1470</td>\n      <td>41.9</td>\n      <td>1276</td>\n      <td>27.7</td>\n      <td>45.5</td>\n      <td>38.7</td>\n      <td>33.5</td>\n      <td>27.8</td>\n      <td>439</td>\n      <td>61.4</td>\n      <td>38.5</td>\n      <td>169</td>\n      <td>29.4</td>\n      <td>129</td>\n      <td>27.3</td>\n      <td>120</td>\n      <td>4.8</td>\n      <td>21</td>\n      <td>47</td>\n      <td>4.18</td>\n      <td>29.4</td>\n      <td>Acuna Jr.\\acunaro01</td>\n      <td>121.0</td>\n    </tr>\n    <tr>\n      <th>2</th>\n      <td>Adames</td>\n      <td>Willy</td>\n      <td>2019</td>\n      <td>0.254</td>\n      <td>0.446</td>\n      <td>0.326</td>\n      <td>0.317</td>\n      <td>0.192</td>\n      <td>88.5</td>\n      <td>10.8</td>\n      <td>36.1</td>\n      <td>32</td>\n      <td>8.4</td>\n      <td>7.1</td>\n      <td>25.4</td>\n      <td>19.9</td>\n      <td>35.3</td>\n      <td>2.4</td>\n      <td>35.6</td>\n      <td>69.0</td>\n      <td>18.3</td>\n      <td>24.7</td>\n      <td>52.1</td>\n      <td>47.9</td>\n      <td>150</td>\n      <td>288</td>\n      <td>50.0</td>\n      <td>1168</td>\n      <td>80.0</td>\n      <td>8.1</td>\n      <td>251</td>\n      <td>1325</td>\n      <td>762</td>\n      <td>2338</td>\n      <td>81.7</td>\n      <td>148</td>\n      <td>807</td>\n      <td>50.0</td>\n      <td>1170</td>\n      <td>42.7</td>\n      <td>998</td>\n      <td>27.2</td>\n      <td>46.8</td>\n      <td>33.5</td>\n      <td>40.3</td>\n      <td>26.2</td>\n      <td>382</td>\n      <td>62.8</td>\n      <td>47.4</td>\n      <td>181</td>\n      <td>22.3</td>\n      <td>85</td>\n      <td>26.2</td>\n      <td>100</td>\n      <td>4.2</td>\n      <td>16</td>\n      <td>0</td>\n      <td>4.27</td>\n      <td>28.3</td>\n      <td>Adames\\adamewi01</td>\n      <td>96.0</td>\n    </tr>\n    <tr>\n      <th>3</th>\n      <td>Ahmed</td>\n      <td>Nick</td>\n      <td>2019</td>\n      <td>0.261</td>\n      <td>0.432</td>\n      <td>0.326</td>\n      <td>0.327</td>\n      <td>0.171</td>\n      <td>87.8</td>\n      <td>7.6</td>\n      <td>35.5</td>\n      <td>30</td>\n      <td>6.6</td>\n      <td>5.5</td>\n      <td>23.5</td>\n      <td>22.6</td>\n      <td>37.9</td>\n      <td>3.3</td>\n      <td>34.0</td>\n      <td>72.0</td>\n      <td>13.9</td>\n      <td>27.9</td>\n      <td>39.5</td>\n      <td>60.5</td>\n      <td>133</td>\n      <td>337</td>\n      <td>51.4</td>\n      <td>1210</td>\n      <td>85.1</td>\n      <td>7.4</td>\n      <td>216</td>\n      <td>1423</td>\n      <td>717</td>\n      <td>2357</td>\n      <td>86.1</td>\n      <td>115</td>\n      <td>825</td>\n      <td>48.6</td>\n      <td>1146</td>\n      <td>42.2</td>\n      <td>995</td>\n      <td>21.3</td>\n      <td>49.3</td>\n      <td>33.6</td>\n      <td>41.7</td>\n      <td>24.8</td>\n      <td>456</td>\n      <td>62.9</td>\n      <td>48.5</td>\n      <td>221</td>\n      <td>22.8</td>\n      <td>104</td>\n      <td>24.3</td>\n      <td>111</td>\n      <td>4.4</td>\n      <td>20</td>\n      <td>2</td>\n      <td>4.35</td>\n      <td>28.2</td>\n      <td>Ahmed\\ahmedni01</td>\n      <td>92.0</td>\n    </tr>\n    <tr>\n      <th>4</th>\n      <td>Alberto</td>\n      <td>Hanser</td>\n      <td>2019</td>\n      <td>0.283</td>\n      <td>0.401</td>\n      <td>0.308</td>\n      <td>0.309</td>\n      <td>0.119</td>\n      <td>84.4</td>\n      <td>11.8</td>\n      <td>32.5</td>\n      <td>14</td>\n      <td>2.9</td>\n      <td>2.7</td>\n      <td>27.1</td>\n      <td>24.4</td>\n      <td>34.2</td>\n      <td>5.2</td>\n      <td>18.5</td>\n      <td>73.4</td>\n      <td>8.2</td>\n      <td>44.8</td>\n      <td>23.8</td>\n      <td>76.2</td>\n      <td>99</td>\n      <td>416</td>\n      <td>52.8</td>\n      <td>929</td>\n      <td>77.4</td>\n      <td>7.8</td>\n      <td>171</td>\n      <td>1009</td>\n      <td>581</td>\n      <td>1762</td>\n      <td>91.8</td>\n      <td>50</td>\n      <td>611</td>\n      <td>47.2</td>\n      <td>832</td>\n      <td>40.9</td>\n      <td>721</td>\n      <td>14.6</td>\n      <td>58.3</td>\n      <td>38.3</td>\n      <td>37.9</td>\n      <td>23.8</td>\n      <td>480</td>\n      <td>66.2</td>\n      <td>48.1</td>\n      <td>231</td>\n      <td>22.9</td>\n      <td>110</td>\n      <td>23.5</td>\n      <td>113</td>\n      <td>5.4</td>\n      <td>26</td>\n      <td>0</td>\n      <td>4.33</td>\n      <td>26.8</td>\n      <td>Alberto\\alberha01</td>\n      <td>98.0</td>\n    </tr>\n    <tr>\n      <th>...</th>\n      <td>...</td>\n      <td>...</td>\n      <td>...</td>\n      <td>...</td>\n      <td>...</td>\n      <td>...</td>\n      <td>...</td>\n      <td>...</td>\n      <td>...</td>\n      <td>...</td>\n      <td>...</td>\n      <td>...</td>\n      <td>...</td>\n      <td>...</td>\n      <td>...</td>\n      <td>...</td>\n      <td>...</td>\n      <td>...</td>\n      <td>...</td>\n      <td>...</td>\n      <td>...</td>\n      <td>...</td>\n      <td>...</td>\n      <td>...</td>\n      <td>...</td>\n      <td>...</td>\n      <td>...</td>\n      <td>...</td>\n      <td>...</td>\n      <td>...</td>\n      <td>...</td>\n      <td>...</td>\n      <td>...</td>\n      <td>...</td>\n      <td>...</td>\n      <td>...</td>\n      <td>...</td>\n      <td>...</td>\n      <td>...</td>\n      <td>...</td>\n      <td>...</td>\n      <td>...</td>\n      <td>...</td>\n      <td>...</td>\n      <td>...</td>\n      <td>...</td>\n      <td>...</td>\n      <td>...</td>\n      <td>...</td>\n      <td>...</td>\n      <td>...</td>\n      <td>...</td>\n      <td>...</td>\n      <td>...</td>\n      <td>...</td>\n      <td>...</td>\n      <td>...</td>\n      <td>...</td>\n      <td>...</td>\n      <td>...</td>\n      <td>...</td>\n    </tr>\n    <tr>\n      <th>130</th>\n      <td>Voit</td>\n      <td>Luke</td>\n      <td>2019</td>\n      <td>0.249</td>\n      <td>0.496</td>\n      <td>0.367</td>\n      <td>0.368</td>\n      <td>0.247</td>\n      <td>89.7</td>\n      <td>12.5</td>\n      <td>38.5</td>\n      <td>38</td>\n      <td>13.2</td>\n      <td>7.3</td>\n      <td>21.5</td>\n      <td>22.9</td>\n      <td>29.5</td>\n      <td>3.8</td>\n      <td>41.5</td>\n      <td>77.0</td>\n      <td>25.7</td>\n      <td>22.4</td>\n      <td>62.7</td>\n      <td>37.3</td>\n      <td>153</td>\n      <td>244</td>\n      <td>54.3</td>\n      <td>1087</td>\n      <td>90.9</td>\n      <td>7.1</td>\n      <td>233</td>\n      <td>1051</td>\n      <td>717</td>\n      <td>2016</td>\n      <td>74.3</td>\n      <td>181</td>\n      <td>704</td>\n      <td>45.7</td>\n      <td>914</td>\n      <td>41.0</td>\n      <td>821</td>\n      <td>35.1</td>\n      <td>47.3</td>\n      <td>43.1</td>\n      <td>37.2</td>\n      <td>19.8</td>\n      <td>288</td>\n      <td>59.8</td>\n      <td>40.6</td>\n      <td>117</td>\n      <td>27.1</td>\n      <td>78</td>\n      <td>29.2</td>\n      <td>84</td>\n      <td>3.1</td>\n      <td>9</td>\n      <td>0</td>\n      <td>4.69</td>\n      <td>25.8</td>\n      <td>Voit\\voitlu01</td>\n      <td>123.0</td>\n    </tr>\n    <tr>\n      <th>131</th>\n      <td>Votto</td>\n      <td>Joey</td>\n      <td>2019</td>\n      <td>0.261</td>\n      <td>0.451</td>\n      <td>0.350</td>\n      <td>0.360</td>\n      <td>0.190</td>\n      <td>88.8</td>\n      <td>15.3</td>\n      <td>40.7</td>\n      <td>28</td>\n      <td>6.9</td>\n      <td>5.7</td>\n      <td>28.4</td>\n      <td>29.1</td>\n      <td>26.2</td>\n      <td>2.0</td>\n      <td>38.2</td>\n      <td>65.4</td>\n      <td>13.7</td>\n      <td>18.5</td>\n      <td>37.1</td>\n      <td>62.9</td>\n      <td>85</td>\n      <td>229</td>\n      <td>51.9</td>\n      <td>1241</td>\n      <td>79.5</td>\n      <td>7.4</td>\n      <td>320</td>\n      <td>1507</td>\n      <td>562</td>\n      <td>2458</td>\n      <td>86.3</td>\n      <td>103</td>\n      <td>752</td>\n      <td>48.1</td>\n      <td>1149</td>\n      <td>45.1</td>\n      <td>1078</td>\n      <td>19.6</td>\n      <td>41.5</td>\n      <td>35.3</td>\n      <td>39.5</td>\n      <td>25.2</td>\n      <td>405</td>\n      <td>59.0</td>\n      <td>37.8</td>\n      <td>153</td>\n      <td>30.1</td>\n      <td>122</td>\n      <td>28.9</td>\n      <td>117</td>\n      <td>3.2</td>\n      <td>13</td>\n      <td>0</td>\n      <td>4.78</td>\n      <td>25.0</td>\n      <td>Votto*\\vottojo01</td>\n      <td>96.0</td>\n    </tr>\n    <tr>\n      <th>132</th>\n      <td>Walker</td>\n      <td>Christian</td>\n      <td>2019</td>\n      <td>0.266</td>\n      <td>0.522</td>\n      <td>0.367</td>\n      <td>0.355</td>\n      <td>0.256</td>\n      <td>91.1</td>\n      <td>14.8</td>\n      <td>34.1</td>\n      <td>49</td>\n      <td>13.1</td>\n      <td>6.9</td>\n      <td>23.5</td>\n      <td>23.7</td>\n      <td>30.1</td>\n      <td>2.7</td>\n      <td>48.8</td>\n      <td>74.9</td>\n      <td>22.0</td>\n      <td>24.0</td>\n      <td>48.7</td>\n      <td>51.3</td>\n      <td>145</td>\n      <td>298</td>\n      <td>51.5</td>\n      <td>1242</td>\n      <td>85.9</td>\n      <td>7.0</td>\n      <td>248</td>\n      <td>1464</td>\n      <td>700</td>\n      <td>2413</td>\n      <td>78.0</td>\n      <td>193</td>\n      <td>877</td>\n      <td>48.5</td>\n      <td>1171</td>\n      <td>40.5</td>\n      <td>978</td>\n      <td>28.8</td>\n      <td>48.7</td>\n      <td>36.3</td>\n      <td>40.0</td>\n      <td>23.7</td>\n      <td>375</td>\n      <td>58.9</td>\n      <td>42.4</td>\n      <td>159</td>\n      <td>27.5</td>\n      <td>103</td>\n      <td>22.9</td>\n      <td>86</td>\n      <td>7.2</td>\n      <td>27</td>\n      <td>1</td>\n      <td>4.54</td>\n      <td>27.2</td>\n      <td>Walker\\walkech02</td>\n      <td>111.0</td>\n    </tr>\n    <tr>\n      <th>133</th>\n      <td>Wong</td>\n      <td>Kolten</td>\n      <td>2019</td>\n      <td>0.250</td>\n      <td>0.365</td>\n      <td>0.307</td>\n      <td>0.334</td>\n      <td>0.115</td>\n      <td>86.1</td>\n      <td>12.7</td>\n      <td>28.1</td>\n      <td>9</td>\n      <td>2.2</td>\n      <td>4.2</td>\n      <td>25.4</td>\n      <td>27.1</td>\n      <td>30.5</td>\n      <td>4.2</td>\n      <td>25.4</td>\n      <td>66.9</td>\n      <td>11.4</td>\n      <td>29.3</td>\n      <td>33.9</td>\n      <td>66.1</td>\n      <td>100</td>\n      <td>295</td>\n      <td>50.9</td>\n      <td>1007</td>\n      <td>72.7</td>\n      <td>7.0</td>\n      <td>332</td>\n      <td>1164</td>\n      <td>481</td>\n      <td>2012</td>\n      <td>88.6</td>\n      <td>74</td>\n      <td>649</td>\n      <td>49.1</td>\n      <td>970</td>\n      <td>42.9</td>\n      <td>848</td>\n      <td>18.5</td>\n      <td>47.4</td>\n      <td>34.2</td>\n      <td>41.1</td>\n      <td>24.6</td>\n      <td>406</td>\n      <td>57.0</td>\n      <td>47.0</td>\n      <td>191</td>\n      <td>21.2</td>\n      <td>86</td>\n      <td>22.4</td>\n      <td>91</td>\n      <td>9.4</td>\n      <td>38</td>\n      <td>0</td>\n      <td>4.20</td>\n      <td>27.6</td>\n      <td>Wong*\\wongko01</td>\n      <td>108.0</td>\n    </tr>\n    <tr>\n      <th>134</th>\n      <td>Yelich</td>\n      <td>Christian</td>\n      <td>2019</td>\n      <td>0.315</td>\n      <td>0.629</td>\n      <td>0.428</td>\n      <td>0.419</td>\n      <td>0.314</td>\n      <td>93.2</td>\n      <td>11.3</td>\n      <td>33.2</td>\n      <td>59</td>\n      <td>15.8</td>\n      <td>6.4</td>\n      <td>23.8</td>\n      <td>20.3</td>\n      <td>31.0</td>\n      <td>2.4</td>\n      <td>49.1</td>\n      <td>69.6</td>\n      <td>16.1</td>\n      <td>27.9</td>\n      <td>49.6</td>\n      <td>50.4</td>\n      <td>184</td>\n      <td>371</td>\n      <td>58.6</td>\n      <td>1328</td>\n      <td>80.4</td>\n      <td>4.9</td>\n      <td>340</td>\n      <td>1326</td>\n      <td>601</td>\n      <td>2284</td>\n      <td>83.9</td>\n      <td>105</td>\n      <td>654</td>\n      <td>41.4</td>\n      <td>939</td>\n      <td>40.6</td>\n      <td>921</td>\n      <td>28.2</td>\n      <td>45.2</td>\n      <td>35.8</td>\n      <td>40.6</td>\n      <td>23.3</td>\n      <td>374</td>\n      <td>54.9</td>\n      <td>42.8</td>\n      <td>160</td>\n      <td>28.1</td>\n      <td>105</td>\n      <td>24.1</td>\n      <td>90</td>\n      <td>5.1</td>\n      <td>19</td>\n      <td>20</td>\n      <td>4.16</td>\n      <td>28.7</td>\n      <td>Yelich*\\yelicch01</td>\n      <td>179.0</td>\n    </tr>\n  </tbody>\n</table>\n<p>135 rows × 61 columns</p>\n</div>"
     },
     "metadata": {},
     "execution_count": 120
    }
   ],
   "source": [
    "statcast_stats = pd.read_csv(\"statcast_stats_2019.csv\")\n",
    "statcast_stats.dropna()\n",
    "statcast_stats = statcast_stats.drop(['Unnamed: 59'], axis=1)\n",
    "statcast_stats.rename(columns = {' first_name': 'first_name'}, inplace = True)\n",
    "statcast_stats = statcast_stats.sort_values('last_name')\n",
    "statcast_stats = statcast_stats.reset_index()\n",
    "statcast_stats = statcast_stats.drop(['index'], axis=1)\n",
    "#####Mannual portion DO NOT COPY FOR OTHERS\n",
    "Tim, Brian = statcast_stats.iloc[8], statcast_stats.iloc[9]\n",
    "temp = statcast_stats.iloc[8].copy()\n",
    "statcast_stats.iloc[8] = Brian\n",
    "statcast_stats.iloc[9] = temp\n",
    "\n",
    "Miguel, Asdrubal = statcast_stats.iloc[26], statcast_stats.iloc[27]\n",
    "temp = statcast_stats.iloc[26].copy()\n",
    "statcast_stats.iloc[26] = Asdrubal\n",
    "statcast_stats.iloc[27] = temp\n",
    "\n",
    "Starling, Ketal = statcast_stats.iloc[73], statcast_stats.iloc[74]\n",
    "temp = statcast_stats.iloc[73].copy()\n",
    "statcast_stats.iloc[73] = Ketal\n",
    "statcast_stats.iloc[74] = temp\n",
    "\n",
    "Domingo, Carlos = statcast_stats.iloc[109], statcast_stats.iloc[111]\n",
    "temp = statcast_stats.iloc[109].copy()\n",
    "statcast_stats.iloc[109] = Carlos\n",
    "statcast_stats.iloc[111] = temp\n",
    "####End of Mannual Portion\n",
    "\n",
    "###OPS+ 2019 Data\n",
    "statcast_stats = pd.concat([statcast_stats, ops_data_2019], axis=1)\n",
    "statcast_stats.rename(columns ={'Name': 'OPS_Name'}, inplace = True)\n",
    "###\n",
    "\n",
    "\n",
    "statcast_stats\n"
   ]
  },
  {
   "cell_type": "code",
   "execution_count": 121,
   "metadata": {},
   "outputs": [
    {
     "output_type": "execute_result",
     "data": {
      "text/plain": "               Name     Team   PA    BB%  ...  wRAA   wOBA  wRC+  playerid\n0  Christian Yelich  Brewers  580  13.8%  ...  61.0  0.442   174     11477\n1        Mike Trout   Angels  600  18.3%  ...  60.4  0.436   180     10155\n2      Alex Bregman   Astros  690  17.2%  ...  58.7  0.418   168     17678\n3       Nelson Cruz    Twins  521  10.7%  ...  43.9  0.417   163      2434\n4    Cody Bellinger  Dodgers  660  14.4%  ...  54.2  0.415   162     15998\n\n[5 rows x 21 columns]",
      "text/html": "<div>\n<style scoped>\n    .dataframe tbody tr th:only-of-type {\n        vertical-align: middle;\n    }\n\n    .dataframe tbody tr th {\n        vertical-align: top;\n    }\n\n    .dataframe thead th {\n        text-align: right;\n    }\n</style>\n<table border=\"1\" class=\"dataframe\">\n  <thead>\n    <tr style=\"text-align: right;\">\n      <th></th>\n      <th>Name</th>\n      <th>Team</th>\n      <th>PA</th>\n      <th>BB%</th>\n      <th>K%</th>\n      <th>BB/K</th>\n      <th>AVG</th>\n      <th>OBP</th>\n      <th>SLG</th>\n      <th>OPS</th>\n      <th>ISO</th>\n      <th>Spd</th>\n      <th>BABIP</th>\n      <th>UBR</th>\n      <th>wGDP</th>\n      <th>wSB</th>\n      <th>wRC</th>\n      <th>wRAA</th>\n      <th>wOBA</th>\n      <th>wRC+</th>\n      <th>playerid</th>\n    </tr>\n  </thead>\n  <tbody>\n    <tr>\n      <th>0</th>\n      <td>Christian Yelich</td>\n      <td>Brewers</td>\n      <td>580</td>\n      <td>13.8%</td>\n      <td>20.3%</td>\n      <td>0.68</td>\n      <td>0.329</td>\n      <td>0.429</td>\n      <td>0.671</td>\n      <td>1.100</td>\n      <td>0.342</td>\n      <td>6.2</td>\n      <td>0.355</td>\n      <td>3.2</td>\n      <td>0.5</td>\n      <td>4.8</td>\n      <td>134</td>\n      <td>61.0</td>\n      <td>0.442</td>\n      <td>174</td>\n      <td>11477</td>\n    </tr>\n    <tr>\n      <th>1</th>\n      <td>Mike Trout</td>\n      <td>Angels</td>\n      <td>600</td>\n      <td>18.3%</td>\n      <td>20.0%</td>\n      <td>0.92</td>\n      <td>0.291</td>\n      <td>0.438</td>\n      <td>0.645</td>\n      <td>1.083</td>\n      <td>0.353</td>\n      <td>4.9</td>\n      <td>0.298</td>\n      <td>3.7</td>\n      <td>2.5</td>\n      <td>0.9</td>\n      <td>136</td>\n      <td>60.4</td>\n      <td>0.436</td>\n      <td>180</td>\n      <td>10155</td>\n    </tr>\n    <tr>\n      <th>2</th>\n      <td>Alex Bregman</td>\n      <td>Astros</td>\n      <td>690</td>\n      <td>17.2%</td>\n      <td>12.0%</td>\n      <td>1.43</td>\n      <td>0.296</td>\n      <td>0.423</td>\n      <td>0.592</td>\n      <td>1.015</td>\n      <td>0.296</td>\n      <td>3.8</td>\n      <td>0.281</td>\n      <td>-3.4</td>\n      <td>1.2</td>\n      <td>0.1</td>\n      <td>146</td>\n      <td>58.7</td>\n      <td>0.418</td>\n      <td>168</td>\n      <td>17678</td>\n    </tr>\n    <tr>\n      <th>3</th>\n      <td>Nelson Cruz</td>\n      <td>Twins</td>\n      <td>521</td>\n      <td>10.7%</td>\n      <td>25.1%</td>\n      <td>0.43</td>\n      <td>0.311</td>\n      <td>0.392</td>\n      <td>0.639</td>\n      <td>1.031</td>\n      <td>0.328</td>\n      <td>1.3</td>\n      <td>0.351</td>\n      <td>-2.8</td>\n      <td>-1.0</td>\n      <td>-0.7</td>\n      <td>109</td>\n      <td>43.9</td>\n      <td>0.417</td>\n      <td>163</td>\n      <td>2434</td>\n    </tr>\n    <tr>\n      <th>4</th>\n      <td>Cody Bellinger</td>\n      <td>Dodgers</td>\n      <td>660</td>\n      <td>14.4%</td>\n      <td>16.4%</td>\n      <td>0.88</td>\n      <td>0.305</td>\n      <td>0.406</td>\n      <td>0.629</td>\n      <td>1.035</td>\n      <td>0.324</td>\n      <td>5.0</td>\n      <td>0.302</td>\n      <td>-0.1</td>\n      <td>1.0</td>\n      <td>0.5</td>\n      <td>137</td>\n      <td>54.2</td>\n      <td>0.415</td>\n      <td>162</td>\n      <td>15998</td>\n    </tr>\n  </tbody>\n</table>\n</div>"
     },
     "metadata": {},
     "execution_count": 121
    }
   ],
   "source": [
    "ubr_stats_2019 = pd.read_csv(\"UBR_wRC+_data_2019.csv\")\n",
    "ubr_stats_2019.head()"
   ]
  },
  {
   "cell_type": "code",
   "execution_count": 122,
   "metadata": {},
   "outputs": [
    {
     "output_type": "execute_result",
     "data": {
      "text/plain": "               Name     Team   PA    BB%  ...  wRAA   wOBA  wRC+  playerid\n0  Christian Yelich  Brewers  580  13.8%  ...  61.0  0.442   174     11477\n1        Mike Trout   Angels  600  18.3%  ...  60.4  0.436   180     10155\n2      Alex Bregman   Astros  690  17.2%  ...  58.7  0.418   168     17678\n3       Nelson Cruz    Twins  521  10.7%  ...  43.9  0.417   163      2434\n4    Cody Bellinger  Dodgers  660  14.4%  ...  54.2  0.415   162     15998\n\n[5 rows x 21 columns]",
      "text/html": "<div>\n<style scoped>\n    .dataframe tbody tr th:only-of-type {\n        vertical-align: middle;\n    }\n\n    .dataframe tbody tr th {\n        vertical-align: top;\n    }\n\n    .dataframe thead th {\n        text-align: right;\n    }\n</style>\n<table border=\"1\" class=\"dataframe\">\n  <thead>\n    <tr style=\"text-align: right;\">\n      <th></th>\n      <th>Name</th>\n      <th>Team</th>\n      <th>PA</th>\n      <th>BB%</th>\n      <th>K%</th>\n      <th>BB/K</th>\n      <th>AVG</th>\n      <th>OBP</th>\n      <th>SLG</th>\n      <th>OPS</th>\n      <th>ISO</th>\n      <th>Spd</th>\n      <th>BABIP</th>\n      <th>UBR</th>\n      <th>wGDP</th>\n      <th>wSB</th>\n      <th>wRC</th>\n      <th>wRAA</th>\n      <th>wOBA</th>\n      <th>wRC+</th>\n      <th>playerid</th>\n    </tr>\n  </thead>\n  <tbody>\n    <tr>\n      <th>0</th>\n      <td>Christian Yelich</td>\n      <td>Brewers</td>\n      <td>580</td>\n      <td>13.8%</td>\n      <td>20.3%</td>\n      <td>0.68</td>\n      <td>0.329</td>\n      <td>0.429</td>\n      <td>0.671</td>\n      <td>1.100</td>\n      <td>0.342</td>\n      <td>6.2</td>\n      <td>0.355</td>\n      <td>3.2</td>\n      <td>0.5</td>\n      <td>4.8</td>\n      <td>134</td>\n      <td>61.0</td>\n      <td>0.442</td>\n      <td>174</td>\n      <td>11477</td>\n    </tr>\n    <tr>\n      <th>1</th>\n      <td>Mike Trout</td>\n      <td>Angels</td>\n      <td>600</td>\n      <td>18.3%</td>\n      <td>20.0%</td>\n      <td>0.92</td>\n      <td>0.291</td>\n      <td>0.438</td>\n      <td>0.645</td>\n      <td>1.083</td>\n      <td>0.353</td>\n      <td>4.9</td>\n      <td>0.298</td>\n      <td>3.7</td>\n      <td>2.5</td>\n      <td>0.9</td>\n      <td>136</td>\n      <td>60.4</td>\n      <td>0.436</td>\n      <td>180</td>\n      <td>10155</td>\n    </tr>\n    <tr>\n      <th>2</th>\n      <td>Alex Bregman</td>\n      <td>Astros</td>\n      <td>690</td>\n      <td>17.2%</td>\n      <td>12.0%</td>\n      <td>1.43</td>\n      <td>0.296</td>\n      <td>0.423</td>\n      <td>0.592</td>\n      <td>1.015</td>\n      <td>0.296</td>\n      <td>3.8</td>\n      <td>0.281</td>\n      <td>-3.4</td>\n      <td>1.2</td>\n      <td>0.1</td>\n      <td>146</td>\n      <td>58.7</td>\n      <td>0.418</td>\n      <td>168</td>\n      <td>17678</td>\n    </tr>\n    <tr>\n      <th>3</th>\n      <td>Nelson Cruz</td>\n      <td>Twins</td>\n      <td>521</td>\n      <td>10.7%</td>\n      <td>25.1%</td>\n      <td>0.43</td>\n      <td>0.311</td>\n      <td>0.392</td>\n      <td>0.639</td>\n      <td>1.031</td>\n      <td>0.328</td>\n      <td>1.3</td>\n      <td>0.351</td>\n      <td>-2.8</td>\n      <td>-1.0</td>\n      <td>-0.7</td>\n      <td>109</td>\n      <td>43.9</td>\n      <td>0.417</td>\n      <td>163</td>\n      <td>2434</td>\n    </tr>\n    <tr>\n      <th>4</th>\n      <td>Cody Bellinger</td>\n      <td>Dodgers</td>\n      <td>660</td>\n      <td>14.4%</td>\n      <td>16.4%</td>\n      <td>0.88</td>\n      <td>0.305</td>\n      <td>0.406</td>\n      <td>0.629</td>\n      <td>1.035</td>\n      <td>0.324</td>\n      <td>5.0</td>\n      <td>0.302</td>\n      <td>-0.1</td>\n      <td>1.0</td>\n      <td>0.5</td>\n      <td>137</td>\n      <td>54.2</td>\n      <td>0.415</td>\n      <td>162</td>\n      <td>15998</td>\n    </tr>\n  </tbody>\n</table>\n</div>"
     },
     "metadata": {},
     "execution_count": 122
    }
   ],
   "source": [
    "wrc_stats_2019 = pd.read_csv(\"UBR_wRC+_data_2019.csv\")\n",
    "wrc_stats_2019.head()"
   ]
  },
  {
   "cell_type": "code",
   "execution_count": null,
   "metadata": {},
   "outputs": [],
   "source": []
  }
 ],
 "metadata": {
  "kernelspec": {
   "display_name": "Python 3",
   "language": "python",
   "name": "python3"
  },
  "language_info": {
   "codemirror_mode": {
    "name": "ipython",
    "version": 3
   },
   "file_extension": ".py",
   "mimetype": "text/x-python",
   "name": "python",
   "nbconvert_exporter": "python",
   "pygments_lexer": "ipython3",
   "version": "3.8.3-final"
  }
 },
 "nbformat": 4,
 "nbformat_minor": 4
}