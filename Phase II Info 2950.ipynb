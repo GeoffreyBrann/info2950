{
 "cells": [
  {
   "cell_type": "markdown",
   "metadata": {},
   "source": [
    "Submit an executed Jupyter notebook (.ipynb) file on CMS with the following sections:\n",
    "Research question(s). State your research question (s) clearly.\n",
    "\n",
    "Data cleaning. Have an initial draft of your data cleaning appendix. Document every step that takes your raw data file(s) and turns it into the analysis-ready data set that you would submit with your final project. All of your data cleaning code should be found in this section, and you may want to explain the steps of your data cleaning in words as well. \n",
    "\n",
    "Data description. Have an initial draft of your data description section. Your data description should be about your analysis-ready data. \n",
    "\n",
    "Data limitations. Identify any potential problems with your dataset. \n",
    "\n",
    "Exploratory data analysis. Perform an (initial) exploratory data analysis. \n",
    "\n",
    "Questions for reviewers. List specific questions for your peer reviewers and project mentor to answer in giving you feedback on this phase.\n"
   ]
  },
  {
   "cell_type": "markdown",
   "metadata": {},
   "source": [
    "Research Question: What combination of statcast statistics best predicts a player's performance in a single season?\n",
    "test"
   ]
  },
  {
   "source": [
    "Geoff"
   ],
   "cell_type": "markdown",
   "metadata": {}
  }
 ],
 "metadata": {
  "kernelspec": {
   "display_name": "Python 3",
   "language": "python",
   "name": "python3"
  },
  "language_info": {
   "codemirror_mode": {
    "name": "ipython",
    "version": 3
   },
   "file_extension": ".py",
   "mimetype": "text/x-python",
   "name": "python",
   "nbconvert_exporter": "python",
   "pygments_lexer": "ipython3",
   "version": "3.8.5-final"
  }
 },
 "nbformat": 4,
 "nbformat_minor": 4
}