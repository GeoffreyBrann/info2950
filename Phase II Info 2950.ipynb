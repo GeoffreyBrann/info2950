{
 "cells": [
  {
   "cell_type": "markdown",
   "metadata": {},
   "source": [
    "Submit an executed Jupyter notebook (.ipynb) file on CMS with the following sections:\n",
    "Research question(s). State your research question (s) clearly.\n",
    "\n",
    "Data cleaning. Have an initial draft of your data cleaning appendix. Document every step that takes your raw data file(s) and turns it into the analysis-ready data set that you would submit with your final project. All of your data cleaning code should be found in this section, and you may want to explain the steps of your data cleaning in words as well. \n",
    "\n",
    "Data description. Have an initial draft of your data description section. Your data description should be about your analysis-ready data. \n",
    "\n",
    "Data limitations. Identify any potential problems with your dataset. \n",
    "\n",
    "Exploratory data analysis. Perform an (initial) exploratory data analysis. \n",
    "\n",
    "Questions for reviewers. List specific questions for your peer reviewers and project mentor to answer in giving you feedback on this phase.\n"
   ]
  },
  {
   "cell_type": "markdown",
   "metadata": {},
   "source": [
    "Research Question: What combination of statcast statistics best predicts a player's performance in a single season?\n",
    "What combination of statcast statistics best predicts a player's offensive performance in terms of OPS+, wrC+, wOBA?\n",
    "What combination of statcast statistics best predicts a player's UBR?\n",
    "What combination of statcast statistics best predicts a pitcher's performance? (in terms of the same offensive stats in reverse, or other stats)"
   ]
  },
  {
   "source": [
    "Geoff, Jonas, Brendan"
   ],
   "cell_type": "markdown",
   "metadata": {}
  },
  {
   "source": [
    "import pandas as pd\n",
    "ops_data = pd.read_csv(\"2019_batter_OPS+.csv\")\n",
    "ops_data.head()\n",
    "ops_data.dropna()\n"
   ],
   "cell_type": "code",
   "metadata": {},
   "execution_count": 5,
   "outputs": [
    {
     "output_type": "execute_result",
     "data": {
      "text/plain": "                                     --- When using SR data  please cite us and provide a link and/or a mention.\nRk   Name                        Age                   OPS+                                        Pos Summary  \n2    José Abreu\\abreujo02        32                     118                                                *3D  \n3    Ronald Acuna Jr.\\acunaro01  21                     121                                             *879/H  \n5    Cristhian Adames#\\adamecr01 27                      99                                               /H45  \n6    Willy Adames\\adamewi01      23                      96                                               *6/H  \n...                                                     ...                                                ...  \n1549 Bradley Zimmer*\\zimmebr01   26                     -78                                               /H98  \n1551 Ryan Zimmerman\\zimmery01    34                      88                                               3/HD  \n1552 Jordan Zimmermann\\zimmejo02 33                    -100                                                  1  \n1553 Ben Zobrist#\\zobribe01      38                      79                                           49/7HD16  \n1554 Mike Zunino\\zuninmi01       28                      45                                                2/H  \n\n[1164 rows x 2 columns]",
      "text/html": "<div>\n<style scoped>\n    .dataframe tbody tr th:only-of-type {\n        vertical-align: middle;\n    }\n\n    .dataframe tbody tr th {\n        vertical-align: top;\n    }\n\n    .dataframe thead th {\n        text-align: right;\n    }\n</style>\n<table border=\"1\" class=\"dataframe\">\n  <thead>\n    <tr style=\"text-align: right;\">\n      <th></th>\n      <th></th>\n      <th></th>\n      <th>--- When using SR data</th>\n      <th>please cite us and provide a link and/or a mention.</th>\n    </tr>\n  </thead>\n  <tbody>\n    <tr>\n      <th>Rk</th>\n      <th>Name</th>\n      <th>Age</th>\n      <td>OPS+</td>\n      <td>Pos Summary</td>\n    </tr>\n    <tr>\n      <th>2</th>\n      <th>José Abreu\\abreujo02</th>\n      <th>32</th>\n      <td>118</td>\n      <td>*3D</td>\n    </tr>\n    <tr>\n      <th>3</th>\n      <th>Ronald Acuna Jr.\\acunaro01</th>\n      <th>21</th>\n      <td>121</td>\n      <td>*879/H</td>\n    </tr>\n    <tr>\n      <th>5</th>\n      <th>Cristhian Adames#\\adamecr01</th>\n      <th>27</th>\n      <td>99</td>\n      <td>/H45</td>\n    </tr>\n    <tr>\n      <th>6</th>\n      <th>Willy Adames\\adamewi01</th>\n      <th>23</th>\n      <td>96</td>\n      <td>*6/H</td>\n    </tr>\n    <tr>\n      <th>...</th>\n      <th>...</th>\n      <th>...</th>\n      <td>...</td>\n      <td>...</td>\n    </tr>\n    <tr>\n      <th>1549</th>\n      <th>Bradley Zimmer*\\zimmebr01</th>\n      <th>26</th>\n      <td>-78</td>\n      <td>/H98</td>\n    </tr>\n    <tr>\n      <th>1551</th>\n      <th>Ryan Zimmerman\\zimmery01</th>\n      <th>34</th>\n      <td>88</td>\n      <td>3/HD</td>\n    </tr>\n    <tr>\n      <th>1552</th>\n      <th>Jordan Zimmermann\\zimmejo02</th>\n      <th>33</th>\n      <td>-100</td>\n      <td>1</td>\n    </tr>\n    <tr>\n      <th>1553</th>\n      <th>Ben Zobrist#\\zobribe01</th>\n      <th>38</th>\n      <td>79</td>\n      <td>49/7HD16</td>\n    </tr>\n    <tr>\n      <th>1554</th>\n      <th>Mike Zunino\\zuninmi01</th>\n      <th>28</th>\n      <td>45</td>\n      <td>2/H</td>\n    </tr>\n  </tbody>\n</table>\n<p>1164 rows × 2 columns</p>\n</div>"
     },
     "metadata": {},
     "execution_count": 5
    }
   ]
  },
  {
   "cell_type": "code",
   "execution_count": 4,
   "metadata": {},
   "outputs": [
    {
     "output_type": "execute_result",
     "data": {
      "text/plain": "  last_name  first_name  year    xba   xslg  xwoba   xobp   xiso  \\\n0    Pujols      Albert  2019  0.253  0.433  0.322  0.317  0.180   \n1   Cabrera      Miguel  2019  0.272  0.443  0.336  0.340  0.171   \n2      Choo    Shin-Soo  2019  0.266  0.480  0.365  0.373  0.214   \n3     Jones        Adam  2019  0.258  0.434  0.321  0.313  0.177   \n4      Cruz      Nelson  2019  0.294  0.643  0.420  0.382  0.349   \n\n   exit_velocity_avg  launch_angle_avg  ...  flyballs_percent  flyballs  \\\n0               88.3              12.6  ...              26.7       115   \n1               90.3              12.3  ...              22.3        87   \n2               91.9               9.2  ...              22.3        89   \n3               86.1              13.4  ...              25.8       100   \n4               93.7              13.1  ...              24.8        81   \n\n   linedrives_percent  linedrives  popups_percent  popups  n_bolts  hp_to_1b  \\\n0                16.9          73            10.2      44        0      5.02   \n1                27.9         109             4.9      19        0      4.95   \n2                23.6          94             3.5      14        0      4.35   \n3                21.2          82             9.0      35        0      4.48   \n4                27.0          88             7.7      25        0      4.73   \n\n   sprint_speed  Unnamed: 59  \n0          22.5          NaN  \n1          23.5          NaN  \n2          26.6          NaN  \n3          26.8          NaN  \n4          25.3          NaN  \n\n[5 rows x 60 columns]",
      "text/html": "<div>\n<style scoped>\n    .dataframe tbody tr th:only-of-type {\n        vertical-align: middle;\n    }\n\n    .dataframe tbody tr th {\n        vertical-align: top;\n    }\n\n    .dataframe thead th {\n        text-align: right;\n    }\n</style>\n<table border=\"1\" class=\"dataframe\">\n  <thead>\n    <tr style=\"text-align: right;\">\n      <th></th>\n      <th>last_name</th>\n      <th>first_name</th>\n      <th>year</th>\n      <th>xba</th>\n      <th>xslg</th>\n      <th>xwoba</th>\n      <th>xobp</th>\n      <th>xiso</th>\n      <th>exit_velocity_avg</th>\n      <th>launch_angle_avg</th>\n      <th>...</th>\n      <th>flyballs_percent</th>\n      <th>flyballs</th>\n      <th>linedrives_percent</th>\n      <th>linedrives</th>\n      <th>popups_percent</th>\n      <th>popups</th>\n      <th>n_bolts</th>\n      <th>hp_to_1b</th>\n      <th>sprint_speed</th>\n      <th>Unnamed: 59</th>\n    </tr>\n  </thead>\n  <tbody>\n    <tr>\n      <th>0</th>\n      <td>Pujols</td>\n      <td>Albert</td>\n      <td>2019</td>\n      <td>0.253</td>\n      <td>0.433</td>\n      <td>0.322</td>\n      <td>0.317</td>\n      <td>0.180</td>\n      <td>88.3</td>\n      <td>12.6</td>\n      <td>...</td>\n      <td>26.7</td>\n      <td>115</td>\n      <td>16.9</td>\n      <td>73</td>\n      <td>10.2</td>\n      <td>44</td>\n      <td>0</td>\n      <td>5.02</td>\n      <td>22.5</td>\n      <td>NaN</td>\n    </tr>\n    <tr>\n      <th>1</th>\n      <td>Cabrera</td>\n      <td>Miguel</td>\n      <td>2019</td>\n      <td>0.272</td>\n      <td>0.443</td>\n      <td>0.336</td>\n      <td>0.340</td>\n      <td>0.171</td>\n      <td>90.3</td>\n      <td>12.3</td>\n      <td>...</td>\n      <td>22.3</td>\n      <td>87</td>\n      <td>27.9</td>\n      <td>109</td>\n      <td>4.9</td>\n      <td>19</td>\n      <td>0</td>\n      <td>4.95</td>\n      <td>23.5</td>\n      <td>NaN</td>\n    </tr>\n    <tr>\n      <th>2</th>\n      <td>Choo</td>\n      <td>Shin-Soo</td>\n      <td>2019</td>\n      <td>0.266</td>\n      <td>0.480</td>\n      <td>0.365</td>\n      <td>0.373</td>\n      <td>0.214</td>\n      <td>91.9</td>\n      <td>9.2</td>\n      <td>...</td>\n      <td>22.3</td>\n      <td>89</td>\n      <td>23.6</td>\n      <td>94</td>\n      <td>3.5</td>\n      <td>14</td>\n      <td>0</td>\n      <td>4.35</td>\n      <td>26.6</td>\n      <td>NaN</td>\n    </tr>\n    <tr>\n      <th>3</th>\n      <td>Jones</td>\n      <td>Adam</td>\n      <td>2019</td>\n      <td>0.258</td>\n      <td>0.434</td>\n      <td>0.321</td>\n      <td>0.313</td>\n      <td>0.177</td>\n      <td>86.1</td>\n      <td>13.4</td>\n      <td>...</td>\n      <td>25.8</td>\n      <td>100</td>\n      <td>21.2</td>\n      <td>82</td>\n      <td>9.0</td>\n      <td>35</td>\n      <td>0</td>\n      <td>4.48</td>\n      <td>26.8</td>\n      <td>NaN</td>\n    </tr>\n    <tr>\n      <th>4</th>\n      <td>Cruz</td>\n      <td>Nelson</td>\n      <td>2019</td>\n      <td>0.294</td>\n      <td>0.643</td>\n      <td>0.420</td>\n      <td>0.382</td>\n      <td>0.349</td>\n      <td>93.7</td>\n      <td>13.1</td>\n      <td>...</td>\n      <td>24.8</td>\n      <td>81</td>\n      <td>27.0</td>\n      <td>88</td>\n      <td>7.7</td>\n      <td>25</td>\n      <td>0</td>\n      <td>4.73</td>\n      <td>25.3</td>\n      <td>NaN</td>\n    </tr>\n  </tbody>\n</table>\n<p>5 rows × 60 columns</p>\n</div>"
     },
     "metadata": {},
     "execution_count": 4
    }
   ],
   "source": [
    "statcast_stats = pd.read_csv(\"statcast_stats_2019.csv\")\n",
    "statcast_stats.head()"
   ]
  },
  {
   "cell_type": "code",
   "execution_count": 5,
   "metadata": {},
   "outputs": [
    {
     "output_type": "execute_result",
     "data": {
      "text/plain": "      Team    PA    BB%     K%  BB/K    AVG    OBP    SLG    OPS    ISO  Spd  \\\n0   Astros  6394  10.1%  18.2%  0.55  0.274  0.352  0.495  0.848  0.221  4.3   \n1    Twins  6392   8.2%  20.9%  0.39  0.270  0.338  0.494  0.832  0.224  3.5   \n2  Yankees  6245   9.1%  23.0%  0.40  0.267  0.339  0.490  0.829  0.222  4.1   \n3  Dodgers  6281   9.7%  21.6%  0.45  0.257  0.338  0.472  0.810  0.215  4.2   \n4  Red Sox  6475   9.1%  21.3%  0.43  0.269  0.340  0.466  0.806  0.197  4.3   \n\n   BABIP  UBR  wGDP  wSB  wRC   wRAA   wOBA  wRC+  \n0  0.296 -3.7  -4.0 -1.8  996  191.8  0.355   125  \n1  0.300 -6.5   4.9 -6.8  953  148.8  0.347   116  \n2  0.306  0.2   0.8 -1.8  928  141.7  0.346   117  \n3  0.291  2.8   5.2  3.9  885   94.0  0.338   111  \n4  0.313 -4.5   0.3 -2.8  915  100.1  0.338   106  ",
      "text/html": "<div>\n<style scoped>\n    .dataframe tbody tr th:only-of-type {\n        vertical-align: middle;\n    }\n\n    .dataframe tbody tr th {\n        vertical-align: top;\n    }\n\n    .dataframe thead th {\n        text-align: right;\n    }\n</style>\n<table border=\"1\" class=\"dataframe\">\n  <thead>\n    <tr style=\"text-align: right;\">\n      <th></th>\n      <th>Team</th>\n      <th>PA</th>\n      <th>BB%</th>\n      <th>K%</th>\n      <th>BB/K</th>\n      <th>AVG</th>\n      <th>OBP</th>\n      <th>SLG</th>\n      <th>OPS</th>\n      <th>ISO</th>\n      <th>Spd</th>\n      <th>BABIP</th>\n      <th>UBR</th>\n      <th>wGDP</th>\n      <th>wSB</th>\n      <th>wRC</th>\n      <th>wRAA</th>\n      <th>wOBA</th>\n      <th>wRC+</th>\n    </tr>\n  </thead>\n  <tbody>\n    <tr>\n      <th>0</th>\n      <td>Astros</td>\n      <td>6394</td>\n      <td>10.1%</td>\n      <td>18.2%</td>\n      <td>0.55</td>\n      <td>0.274</td>\n      <td>0.352</td>\n      <td>0.495</td>\n      <td>0.848</td>\n      <td>0.221</td>\n      <td>4.3</td>\n      <td>0.296</td>\n      <td>-3.7</td>\n      <td>-4.0</td>\n      <td>-1.8</td>\n      <td>996</td>\n      <td>191.8</td>\n      <td>0.355</td>\n      <td>125</td>\n    </tr>\n    <tr>\n      <th>1</th>\n      <td>Twins</td>\n      <td>6392</td>\n      <td>8.2%</td>\n      <td>20.9%</td>\n      <td>0.39</td>\n      <td>0.270</td>\n      <td>0.338</td>\n      <td>0.494</td>\n      <td>0.832</td>\n      <td>0.224</td>\n      <td>3.5</td>\n      <td>0.300</td>\n      <td>-6.5</td>\n      <td>4.9</td>\n      <td>-6.8</td>\n      <td>953</td>\n      <td>148.8</td>\n      <td>0.347</td>\n      <td>116</td>\n    </tr>\n    <tr>\n      <th>2</th>\n      <td>Yankees</td>\n      <td>6245</td>\n      <td>9.1%</td>\n      <td>23.0%</td>\n      <td>0.40</td>\n      <td>0.267</td>\n      <td>0.339</td>\n      <td>0.490</td>\n      <td>0.829</td>\n      <td>0.222</td>\n      <td>4.1</td>\n      <td>0.306</td>\n      <td>0.2</td>\n      <td>0.8</td>\n      <td>-1.8</td>\n      <td>928</td>\n      <td>141.7</td>\n      <td>0.346</td>\n      <td>117</td>\n    </tr>\n    <tr>\n      <th>3</th>\n      <td>Dodgers</td>\n      <td>6281</td>\n      <td>9.7%</td>\n      <td>21.6%</td>\n      <td>0.45</td>\n      <td>0.257</td>\n      <td>0.338</td>\n      <td>0.472</td>\n      <td>0.810</td>\n      <td>0.215</td>\n      <td>4.2</td>\n      <td>0.291</td>\n      <td>2.8</td>\n      <td>5.2</td>\n      <td>3.9</td>\n      <td>885</td>\n      <td>94.0</td>\n      <td>0.338</td>\n      <td>111</td>\n    </tr>\n    <tr>\n      <th>4</th>\n      <td>Red Sox</td>\n      <td>6475</td>\n      <td>9.1%</td>\n      <td>21.3%</td>\n      <td>0.43</td>\n      <td>0.269</td>\n      <td>0.340</td>\n      <td>0.466</td>\n      <td>0.806</td>\n      <td>0.197</td>\n      <td>4.3</td>\n      <td>0.313</td>\n      <td>-4.5</td>\n      <td>0.3</td>\n      <td>-2.8</td>\n      <td>915</td>\n      <td>100.1</td>\n      <td>0.338</td>\n      <td>106</td>\n    </tr>\n  </tbody>\n</table>\n</div>"
     },
     "metadata": {},
     "execution_count": 5
    }
   ],
   "source": [
    "ubr_stats = pd.read_csv(\"2019 FanGraphs UBR Stats.csv\")\n",
    "ubr_stats.head()"
   ]
  },
  {
   "cell_type": "code",
   "execution_count": 6,
   "metadata": {},
   "outputs": [
    {
     "output_type": "execute_result",
     "data": {
      "text/plain": "        Team     G    PA   HR    R  RBI  SB    BB%     K%    ISO  ...    AVG  \\\n0     Astros  2309  6394  288  920  891  67  10.1%  18.2%  0.221  ...  0.274   \n1    Dodgers  2413  6281  279  886  861  57   9.7%  21.6%  0.215  ...  0.257   \n2    Yankees  2312  6245  306  943  904  55   9.1%  23.0%  0.222  ...  0.267   \n3      Twins  2320  6392  307  939  906  28   8.2%  20.9%  0.224  ...  0.270   \n4  Athletics  2363  6269  257  845  800  49   9.2%  21.3%  0.199  ...  0.249   \n\n     OBP    SLG   wOBA  wRC+    EV   BsR    Off   Def   WAR  \n0  0.352  0.495  0.355   125  88.3  -9.5  196.3  -2.5  40.8  \n1  0.338  0.472  0.338   111  89.3  11.9  102.7  51.7  34.8  \n2  0.339  0.490  0.346   117  90.0  -0.8  130.5 -14.5  32.7  \n3  0.338  0.494  0.347   116  89.7  -8.4  120.0 -26.7  31.0  \n4  0.327  0.448  0.327   107  89.4  -1.7   53.2  18.3  28.5  \n\n[5 rows x 21 columns]",
      "text/html": "<div>\n<style scoped>\n    .dataframe tbody tr th:only-of-type {\n        vertical-align: middle;\n    }\n\n    .dataframe tbody tr th {\n        vertical-align: top;\n    }\n\n    .dataframe thead th {\n        text-align: right;\n    }\n</style>\n<table border=\"1\" class=\"dataframe\">\n  <thead>\n    <tr style=\"text-align: right;\">\n      <th></th>\n      <th>Team</th>\n      <th>G</th>\n      <th>PA</th>\n      <th>HR</th>\n      <th>R</th>\n      <th>RBI</th>\n      <th>SB</th>\n      <th>BB%</th>\n      <th>K%</th>\n      <th>ISO</th>\n      <th>...</th>\n      <th>AVG</th>\n      <th>OBP</th>\n      <th>SLG</th>\n      <th>wOBA</th>\n      <th>wRC+</th>\n      <th>EV</th>\n      <th>BsR</th>\n      <th>Off</th>\n      <th>Def</th>\n      <th>WAR</th>\n    </tr>\n  </thead>\n  <tbody>\n    <tr>\n      <th>0</th>\n      <td>Astros</td>\n      <td>2309</td>\n      <td>6394</td>\n      <td>288</td>\n      <td>920</td>\n      <td>891</td>\n      <td>67</td>\n      <td>10.1%</td>\n      <td>18.2%</td>\n      <td>0.221</td>\n      <td>...</td>\n      <td>0.274</td>\n      <td>0.352</td>\n      <td>0.495</td>\n      <td>0.355</td>\n      <td>125</td>\n      <td>88.3</td>\n      <td>-9.5</td>\n      <td>196.3</td>\n      <td>-2.5</td>\n      <td>40.8</td>\n    </tr>\n    <tr>\n      <th>1</th>\n      <td>Dodgers</td>\n      <td>2413</td>\n      <td>6281</td>\n      <td>279</td>\n      <td>886</td>\n      <td>861</td>\n      <td>57</td>\n      <td>9.7%</td>\n      <td>21.6%</td>\n      <td>0.215</td>\n      <td>...</td>\n      <td>0.257</td>\n      <td>0.338</td>\n      <td>0.472</td>\n      <td>0.338</td>\n      <td>111</td>\n      <td>89.3</td>\n      <td>11.9</td>\n      <td>102.7</td>\n      <td>51.7</td>\n      <td>34.8</td>\n    </tr>\n    <tr>\n      <th>2</th>\n      <td>Yankees</td>\n      <td>2312</td>\n      <td>6245</td>\n      <td>306</td>\n      <td>943</td>\n      <td>904</td>\n      <td>55</td>\n      <td>9.1%</td>\n      <td>23.0%</td>\n      <td>0.222</td>\n      <td>...</td>\n      <td>0.267</td>\n      <td>0.339</td>\n      <td>0.490</td>\n      <td>0.346</td>\n      <td>117</td>\n      <td>90.0</td>\n      <td>-0.8</td>\n      <td>130.5</td>\n      <td>-14.5</td>\n      <td>32.7</td>\n    </tr>\n    <tr>\n      <th>3</th>\n      <td>Twins</td>\n      <td>2320</td>\n      <td>6392</td>\n      <td>307</td>\n      <td>939</td>\n      <td>906</td>\n      <td>28</td>\n      <td>8.2%</td>\n      <td>20.9%</td>\n      <td>0.224</td>\n      <td>...</td>\n      <td>0.270</td>\n      <td>0.338</td>\n      <td>0.494</td>\n      <td>0.347</td>\n      <td>116</td>\n      <td>89.7</td>\n      <td>-8.4</td>\n      <td>120.0</td>\n      <td>-26.7</td>\n      <td>31.0</td>\n    </tr>\n    <tr>\n      <th>4</th>\n      <td>Athletics</td>\n      <td>2363</td>\n      <td>6269</td>\n      <td>257</td>\n      <td>845</td>\n      <td>800</td>\n      <td>49</td>\n      <td>9.2%</td>\n      <td>21.3%</td>\n      <td>0.199</td>\n      <td>...</td>\n      <td>0.249</td>\n      <td>0.327</td>\n      <td>0.448</td>\n      <td>0.327</td>\n      <td>107</td>\n      <td>89.4</td>\n      <td>-1.7</td>\n      <td>53.2</td>\n      <td>18.3</td>\n      <td>28.5</td>\n    </tr>\n  </tbody>\n</table>\n<p>5 rows × 21 columns</p>\n</div>"
     },
     "metadata": {},
     "execution_count": 6
    }
   ],
   "source": [
    "wrc_stats = pd.read_csv(\"FanGraphs WRC+ Data.csv\")\n",
    "wrc_stats.head()"
   ]
  },
  {
   "cell_type": "code",
   "execution_count": null,
   "metadata": {},
   "outputs": [],
   "source": []
  }
 ],
 "metadata": {
  "kernelspec": {
   "display_name": "Python 3",
   "language": "python",
   "name": "python3"
  },
  "language_info": {
   "codemirror_mode": {
    "name": "ipython",
    "version": 3
   },
   "file_extension": ".py",
   "mimetype": "text/x-python",
   "name": "python",
   "nbconvert_exporter": "python",
   "pygments_lexer": "ipython3",
   "version": "3.8.3-final"
  }
 },
 "nbformat": 4,
 "nbformat_minor": 4
}